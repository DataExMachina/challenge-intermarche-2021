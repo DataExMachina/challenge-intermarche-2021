{
 "cells": [
  {
   "cell_type": "markdown",
   "metadata": {
    "id": "nwocB0gwbj3M"
   },
   "source": [
    "## Packages & utils"
   ]
  },
  {
   "cell_type": "code",
   "execution_count": 1,
   "metadata": {
    "executionInfo": {
     "elapsed": 2538,
     "status": "ok",
     "timestamp": 1620386975955,
     "user": {
      "displayName": "binvignat.j@gmail.com",
      "photoUrl": "",
      "userId": "07817802643777078977"
     },
     "user_tz": -120
    },
    "id": "lAFapFknZlji"
   },
   "outputs": [],
   "source": [
    "import itertools\n",
    "\n",
    "import numpy as np\n",
    "import pandas as pd\n",
    "from tqdm import tqdm\n",
    "import lightgbm\n",
    "import holidays\n",
    "\n",
    "from sklearn.metrics import mean_squared_error\n",
    "\n",
    "fr_holidays = holidays.CountryHoliday('FRA')\n",
    "\n",
    "from vacances_scolaires_france import SchoolHolidayDates\n",
    "school_holidays = SchoolHolidayDates()"
   ]
  },
  {
   "cell_type": "markdown",
   "metadata": {
    "id": "E9w5mOu9bsR1"
   },
   "source": [
    "## Données"
   ]
  },
  {
   "cell_type": "code",
   "execution_count": 2,
   "metadata": {
    "executionInfo": {
     "elapsed": 27219,
     "status": "ok",
     "timestamp": 1620387000644,
     "user": {
      "displayName": "binvignat.j@gmail.com",
      "photoUrl": "",
      "userId": "07817802643777078977"
     },
     "user_tz": -120
    },
    "id": "nCszYUZ5bxNC"
   },
   "outputs": [],
   "source": [
    "nomenclature_produits = pd.read_csv('data/nomenclature_produits.csv')\n",
    "\n",
    "points_de_vente = pd.read_csv('data/points_de_vente.csv')\n",
    "prix_vente = pd.read_csv('data/prix_vente.csv')\n",
    "\n",
    "prix_vente['ORD_PRIX'] = prix_vente['PRIX_UNITAIRE'].apply(lambda x: float(x.split(' ')[-1].replace('€', '')))\n",
    "\n",
    "ventes_2018 = pd.read_csv('data/ventes_2018.csv.zip',\n",
    "                          parse_dates=['DATE'])"
   ]
  },
  {
   "cell_type": "code",
   "execution_count": 3,
   "metadata": {
    "executionInfo": {
     "elapsed": 27887,
     "status": "ok",
     "timestamp": 1620387001319,
     "user": {
      "displayName": "binvignat.j@gmail.com",
      "photoUrl": "",
      "userId": "07817802643777078977"
     },
     "user_tz": -120
    },
    "id": "FK2wp_JPlZjp"
   },
   "outputs": [],
   "source": [
    "artc_list = ventes_2018['ID_ARTC'].drop_duplicates().tolist()\n",
    "pdv_list = ventes_2018['ID_PDV'].drop_duplicates().tolist()"
   ]
  },
  {
   "cell_type": "code",
   "execution_count": 4,
   "metadata": {
    "executionInfo": {
     "elapsed": 29329,
     "status": "ok",
     "timestamp": 1620387002768,
     "user": {
      "displayName": "binvignat.j@gmail.com",
      "photoUrl": "",
      "userId": "07817802643777078977"
     },
     "user_tz": -120
    },
    "id": "OTPVCB9eccWW"
   },
   "outputs": [],
   "source": [
    "dates = pd.date_range('2018-01-01', '2019-03-31')\n",
    "combines = pd.DataFrame(itertools.product(artc_list, dates),\n",
    "                        columns=['ID_ARTC', 'DATE']\n",
    "                        )"
   ]
  },
  {
   "cell_type": "code",
   "execution_count": 5,
   "metadata": {},
   "outputs": [],
   "source": [
    "dates_dataframe = combines[['DATE']].drop_duplicates()\n",
    "dates_dataframe['holiday_zone_A'] = dates_dataframe['DATE'].dt.date\\\n",
    "                                    .apply(lambda x: school_holidays.is_holiday_for_zone(x, 'A'))\n",
    "dates_dataframe['holiday_zone_B'] = dates_dataframe['DATE'].dt.date\\\n",
    "                                    .apply(lambda x: school_holidays.is_holiday_for_zone(x, 'B'))\n",
    "dates_dataframe['holiday_zone_C'] = dates_dataframe['DATE'].dt.date\\\n",
    "                                    .apply(lambda x: school_holidays.is_holiday_for_zone(x, 'C'))"
   ]
  },
  {
   "cell_type": "code",
   "execution_count": 6,
   "metadata": {
    "executionInfo": {
     "elapsed": 29325,
     "status": "ok",
     "timestamp": 1620387002770,
     "user": {
      "displayName": "binvignat.j@gmail.com",
      "photoUrl": "",
      "userId": "07817802643777078977"
     },
     "user_tz": -120
    },
    "id": "GlkFJs2V8pRa"
   },
   "outputs": [],
   "source": [
    "import warnings\n",
    "warnings.filterwarnings(\"ignore\")"
   ]
  },
  {
   "cell_type": "markdown",
   "metadata": {
    "id": "Tdneml3xnu7j"
   },
   "source": [
    "## PDV model"
   ]
  },
  {
   "cell_type": "code",
   "execution_count": 7,
   "metadata": {},
   "outputs": [],
   "source": [
    "from sklearn.linear_model import Ridge \n",
    "from sklearn.ensemble import StackingRegressor, BaggingRegressor\n",
    "\n",
    "from catboost import CatBoostRegressor"
   ]
  },
  {
   "cell_type": "code",
   "execution_count": 33,
   "metadata": {
    "colab": {
     "base_uri": "https://localhost:8080/"
    },
    "executionInfo": {
     "elapsed": 2261912,
     "status": "ok",
     "timestamp": 1620393247725,
     "user": {
      "displayName": "binvignat.j@gmail.com",
      "photoUrl": "",
      "userId": "07817802643777078977"
     },
     "user_tz": -120
    },
    "id": "YYD9A6Gon_W6",
    "outputId": "7c68244d-2565-4ece-e399-acc869ee1c39",
    "scrolled": true
   },
   "outputs": [
    {
     "name": "stderr",
     "output_type": "stream",
     "text": [
      "\r",
      "  0%|          | 0/149 [00:00<?, ?it/s]"
     ]
    },
    {
     "name": "stdout",
     "output_type": "stream",
     "text": [
      "102 0.3903125670183636\n"
     ]
    },
    {
     "name": "stderr",
     "output_type": "stream",
     "text": [
      "\r",
      "  1%|          | 1/149 [00:22<55:23, 22.45s/it]"
     ]
    },
    {
     "name": "stdout",
     "output_type": "stream",
     "text": [
      "5 0.303472061814166\n"
     ]
    },
    {
     "name": "stderr",
     "output_type": "stream",
     "text": [
      "  1%|          | 1/149 [00:39<1:38:30, 39.94s/it]\n"
     ]
    },
    {
     "ename": "KeyboardInterrupt",
     "evalue": "",
     "output_type": "error",
     "traceback": [
      "\u001b[0;31m---------------------------------------------------------------------------\u001b[0m",
      "\u001b[0;31mKeyboardInterrupt\u001b[0m                         Traceback (most recent call last)",
      "\u001b[0;32m<ipython-input-33-cd0ef47a9a38>\u001b[0m in \u001b[0;36m<module>\u001b[0;34m\u001b[0m\n\u001b[1;32m     90\u001b[0m     \u001b[0mfull_train\u001b[0m \u001b[0;34m=\u001b[0m \u001b[0msub_ventes\u001b[0m\u001b[0;34m.\u001b[0m\u001b[0mquery\u001b[0m\u001b[0;34m(\u001b[0m\u001b[0;34m'ANNEE==2018 and TRIMESTRE<=4'\u001b[0m\u001b[0;34m)\u001b[0m\u001b[0;34m\u001b[0m\u001b[0;34m\u001b[0m\u001b[0m\n\u001b[1;32m     91\u001b[0m \u001b[0;34m\u001b[0m\u001b[0m\n\u001b[0;32m---> 92\u001b[0;31m     \u001b[0mmodel_lightgbm\u001b[0m\u001b[0;34m.\u001b[0m\u001b[0mfit\u001b[0m\u001b[0;34m(\u001b[0m\u001b[0mfull_train\u001b[0m\u001b[0;34m[\u001b[0m\u001b[0mcols\u001b[0m\u001b[0;34m]\u001b[0m\u001b[0;34m,\u001b[0m \u001b[0mfull_train\u001b[0m\u001b[0;34m[\u001b[0m\u001b[0mtarget\u001b[0m\u001b[0;34m]\u001b[0m\u001b[0;34m)\u001b[0m\u001b[0;34m\u001b[0m\u001b[0;34m\u001b[0m\u001b[0m\n\u001b[0m\u001b[1;32m     93\u001b[0m     \u001b[0;31m#model_catboost.fit(full_train[cols], full_train[target])\u001b[0m\u001b[0;34m\u001b[0m\u001b[0;34m\u001b[0m\u001b[0;34m\u001b[0m\u001b[0m\n\u001b[1;32m     94\u001b[0m \u001b[0;34m\u001b[0m\u001b[0m\n",
      "\u001b[0;32m~/DataProjects/intermarche-challenge/.venv/lib/python3.6/site-packages/lightgbm/sklearn.py\u001b[0m in \u001b[0;36mfit\u001b[0;34m(self, X, y, sample_weight, init_score, eval_set, eval_names, eval_sample_weight, eval_init_score, eval_metric, early_stopping_rounds, verbose, feature_name, categorical_feature, callbacks, init_model)\u001b[0m\n\u001b[1;32m    820\u001b[0m                     \u001b[0meval_init_score\u001b[0m\u001b[0;34m=\u001b[0m\u001b[0meval_init_score\u001b[0m\u001b[0;34m,\u001b[0m \u001b[0meval_metric\u001b[0m\u001b[0;34m=\u001b[0m\u001b[0meval_metric\u001b[0m\u001b[0;34m,\u001b[0m\u001b[0;34m\u001b[0m\u001b[0;34m\u001b[0m\u001b[0m\n\u001b[1;32m    821\u001b[0m                     \u001b[0mearly_stopping_rounds\u001b[0m\u001b[0;34m=\u001b[0m\u001b[0mearly_stopping_rounds\u001b[0m\u001b[0;34m,\u001b[0m \u001b[0mverbose\u001b[0m\u001b[0;34m=\u001b[0m\u001b[0mverbose\u001b[0m\u001b[0;34m,\u001b[0m \u001b[0mfeature_name\u001b[0m\u001b[0;34m=\u001b[0m\u001b[0mfeature_name\u001b[0m\u001b[0;34m,\u001b[0m\u001b[0;34m\u001b[0m\u001b[0;34m\u001b[0m\u001b[0m\n\u001b[0;32m--> 822\u001b[0;31m                     categorical_feature=categorical_feature, callbacks=callbacks, init_model=init_model)\n\u001b[0m\u001b[1;32m    823\u001b[0m         \u001b[0;32mreturn\u001b[0m \u001b[0mself\u001b[0m\u001b[0;34m\u001b[0m\u001b[0;34m\u001b[0m\u001b[0m\n\u001b[1;32m    824\u001b[0m \u001b[0;34m\u001b[0m\u001b[0m\n",
      "\u001b[0;32m~/DataProjects/intermarche-challenge/.venv/lib/python3.6/site-packages/lightgbm/sklearn.py\u001b[0m in \u001b[0;36mfit\u001b[0;34m(self, X, y, sample_weight, init_score, group, eval_set, eval_names, eval_sample_weight, eval_class_weight, eval_init_score, eval_group, eval_metric, early_stopping_rounds, verbose, feature_name, categorical_feature, callbacks, init_model)\u001b[0m\n\u001b[1;32m    686\u001b[0m                               \u001b[0mevals_result\u001b[0m\u001b[0;34m=\u001b[0m\u001b[0mevals_result\u001b[0m\u001b[0;34m,\u001b[0m \u001b[0mfobj\u001b[0m\u001b[0;34m=\u001b[0m\u001b[0mself\u001b[0m\u001b[0;34m.\u001b[0m\u001b[0m_fobj\u001b[0m\u001b[0;34m,\u001b[0m \u001b[0mfeval\u001b[0m\u001b[0;34m=\u001b[0m\u001b[0meval_metrics_callable\u001b[0m\u001b[0;34m,\u001b[0m\u001b[0;34m\u001b[0m\u001b[0;34m\u001b[0m\u001b[0m\n\u001b[1;32m    687\u001b[0m                               \u001b[0mverbose_eval\u001b[0m\u001b[0;34m=\u001b[0m\u001b[0mverbose\u001b[0m\u001b[0;34m,\u001b[0m \u001b[0mfeature_name\u001b[0m\u001b[0;34m=\u001b[0m\u001b[0mfeature_name\u001b[0m\u001b[0;34m,\u001b[0m\u001b[0;34m\u001b[0m\u001b[0;34m\u001b[0m\u001b[0m\n\u001b[0;32m--> 688\u001b[0;31m                               callbacks=callbacks, init_model=init_model)\n\u001b[0m\u001b[1;32m    689\u001b[0m \u001b[0;34m\u001b[0m\u001b[0m\n\u001b[1;32m    690\u001b[0m         \u001b[0;32mif\u001b[0m \u001b[0mevals_result\u001b[0m\u001b[0;34m:\u001b[0m\u001b[0;34m\u001b[0m\u001b[0;34m\u001b[0m\u001b[0m\n",
      "\u001b[0;32m~/DataProjects/intermarche-challenge/.venv/lib/python3.6/site-packages/lightgbm/engine.py\u001b[0m in \u001b[0;36mtrain\u001b[0;34m(params, train_set, num_boost_round, valid_sets, valid_names, fobj, feval, init_model, feature_name, categorical_feature, early_stopping_rounds, evals_result, verbose_eval, learning_rates, keep_training_booster, callbacks)\u001b[0m\n\u001b[1;32m    247\u001b[0m                                     evaluation_result_list=None))\n\u001b[1;32m    248\u001b[0m \u001b[0;34m\u001b[0m\u001b[0m\n\u001b[0;32m--> 249\u001b[0;31m         \u001b[0mbooster\u001b[0m\u001b[0;34m.\u001b[0m\u001b[0mupdate\u001b[0m\u001b[0;34m(\u001b[0m\u001b[0mfobj\u001b[0m\u001b[0;34m=\u001b[0m\u001b[0mfobj\u001b[0m\u001b[0;34m)\u001b[0m\u001b[0;34m\u001b[0m\u001b[0;34m\u001b[0m\u001b[0m\n\u001b[0m\u001b[1;32m    250\u001b[0m \u001b[0;34m\u001b[0m\u001b[0m\n\u001b[1;32m    251\u001b[0m         \u001b[0mevaluation_result_list\u001b[0m \u001b[0;34m=\u001b[0m \u001b[0;34m[\u001b[0m\u001b[0;34m]\u001b[0m\u001b[0;34m\u001b[0m\u001b[0;34m\u001b[0m\u001b[0m\n",
      "\u001b[0;32m~/DataProjects/intermarche-challenge/.venv/lib/python3.6/site-packages/lightgbm/basic.py\u001b[0m in \u001b[0;36mupdate\u001b[0;34m(self, train_set, fobj)\u001b[0m\n\u001b[1;32m   2643\u001b[0m             _safe_call(_LIB.LGBM_BoosterUpdateOneIter(\n\u001b[1;32m   2644\u001b[0m                 \u001b[0mself\u001b[0m\u001b[0;34m.\u001b[0m\u001b[0mhandle\u001b[0m\u001b[0;34m,\u001b[0m\u001b[0;34m\u001b[0m\u001b[0;34m\u001b[0m\u001b[0m\n\u001b[0;32m-> 2645\u001b[0;31m                 ctypes.byref(is_finished)))\n\u001b[0m\u001b[1;32m   2646\u001b[0m             \u001b[0mself\u001b[0m\u001b[0;34m.\u001b[0m\u001b[0m__is_predicted_cur_iter\u001b[0m \u001b[0;34m=\u001b[0m \u001b[0;34m[\u001b[0m\u001b[0;32mFalse\u001b[0m \u001b[0;32mfor\u001b[0m \u001b[0m_\u001b[0m \u001b[0;32min\u001b[0m \u001b[0mrange\u001b[0m\u001b[0;34m(\u001b[0m\u001b[0mself\u001b[0m\u001b[0;34m.\u001b[0m\u001b[0m__num_dataset\u001b[0m\u001b[0;34m)\u001b[0m\u001b[0;34m]\u001b[0m\u001b[0;34m\u001b[0m\u001b[0;34m\u001b[0m\u001b[0m\n\u001b[1;32m   2647\u001b[0m             \u001b[0;32mreturn\u001b[0m \u001b[0mis_finished\u001b[0m\u001b[0;34m.\u001b[0m\u001b[0mvalue\u001b[0m \u001b[0;34m==\u001b[0m \u001b[0;36m1\u001b[0m\u001b[0;34m\u001b[0m\u001b[0;34m\u001b[0m\u001b[0m\n",
      "\u001b[0;31mKeyboardInterrupt\u001b[0m: "
     ]
    }
   ],
   "source": [
    "errors_list = list()\n",
    "test_list = list()\n",
    "\n",
    "for pdv in tqdm(pdv_list):\n",
    "    # extract data and add empty dates\n",
    "    sub_ventes = ventes_2018.query(f'ID_PDV=={pdv}')\\\n",
    "                          .drop('ID_PDV', axis=1)\\\n",
    "                          .merge(combines, how='right')\\\n",
    "                          .fillna({'QTE': 0})\n",
    "    \n",
    "    # add products infos\n",
    "    sub_ventes['TRIMESTRE'] = sub_ventes['DATE'].dt.quarter\n",
    "    sub_ventes['ANNEE'] = sub_ventes['DATE'].dt.year\n",
    "\n",
    "    sub_ventes = sub_ventes.merge(nomenclature_produits, how='right')\n",
    "    sub_ventes = sub_ventes.merge(prix_vente.query(f'ID_PDV=={pdv}')\\\n",
    "                                          .filter(\n",
    "                                              ['ID_ARTC', 'ANNEE', 'TRIMESTRE', 'ORD_PRIX', 'PRIX_UNITAIRE']\n",
    "                                              ),\n",
    "                                  how='left'\n",
    "                                          )\n",
    "    \n",
    "    \n",
    "    # remove products without any sale\n",
    "#    prod_to_rm = sub_ventes.groupby('ID_ARTC')['QTE'].sum().reset_index().query('QTE==0')['ID_ARTC'].tolist()\n",
    "#    sub_ventes = sub_ventes[~sub_ventes['ID_ARTC'].isin(prod_to_rm)]\n",
    "\n",
    "    # price compare\n",
    "    price_table = sub_ventes.groupby(['DATE', 'LB_VENT_FAML'])['ORD_PRIX']\\\n",
    "          .value_counts(normalize=True)\\\n",
    "          .reset_index(name='tmp').drop('tmp', axis=1)\\\n",
    "          .groupby(['DATE', 'LB_VENT_FAML']).head(1)\\\n",
    "          .reset_index(drop=True).rename(columns={'ORD_PRIX': 'COMMON_PRICE'})\n",
    "    \n",
    "    sub_ventes = sub_ventes.merge(price_table, how='left')\n",
    "    sub_ventes['PRICE_INDEX'] = (sub_ventes['ORD_PRIX']/sub_ventes['COMMON_PRICE'])\\\n",
    "                                .apply(lambda x: 'lower' if x<1 else ('higher' if x>1 else 'equal'))\n",
    "    \n",
    "    # extract date \n",
    "    sub_ventes['WEEK_DAY'] = sub_ventes['DATE'].dt.dayofweek\n",
    "    sub_ventes['DAY_OF_MONTH'] = sub_ventes['DATE'].dt.day\n",
    "    sub_ventes['HOLIDAYS'] = sub_ventes['DATE'].apply(lambda x: x in fr_holidays)\n",
    "    sub_ventes = sub_ventes.merge(dates_dataframe)\n",
    "    \n",
    "    # create target\n",
    "    sub_ventes['LOG_QTE'] = np.log1p(sub_ventes['QTE'])\n",
    "    \n",
    "    # encode categories\n",
    "    sub_ventes['ID_ARTC'] = sub_ventes['ID_ARTC'].astype('category')\n",
    "    sub_ventes['LB_VENT_RAYN'] = sub_ventes['LB_VENT_RAYN'].astype('category')\n",
    "    sub_ventes['LB_VENT_FAML'] = sub_ventes['LB_VENT_FAML'].astype('category')\n",
    "    sub_ventes['LB_VENT_SOUS_FAML'] = sub_ventes['LB_VENT_SOUS_FAML'].astype('category')\n",
    "    sub_ventes['WEEK_DAY'] = sub_ventes['WEEK_DAY'].astype('category')\n",
    "    sub_ventes['PRICE_INDEX'] = sub_ventes['PRICE_INDEX'].fillna('UNK').astype('category')\n",
    "\n",
    "    # create train, val & test\n",
    "    train = sub_ventes.query('ANNEE==2018 and TRIMESTRE<4')\n",
    "    val = sub_ventes.query('ANNEE==2018 and TRIMESTRE==4')\n",
    "    test = sub_ventes.query('ANNEE==2019 and TRIMESTRE==1')\n",
    "    \n",
    "    # train, valid\n",
    "    cols = ['ID_ARTC', 'LB_VENT_RAYN', 'LB_VENT_FAML', 'LB_VENT_SOUS_FAML',\n",
    "            'PRICE_INDEX',\n",
    "            'WEEK_DAY', 'DAY_OF_MONTH', 'HOLIDAYS', \n",
    "            'holiday_zone_A', 'holiday_zone_B', 'holiday_zone_C',\n",
    "            'ORD_PRIX'\n",
    "            ]\n",
    "    target = 'LOG_QTE'\n",
    "    \n",
    "    model_lightgbm = lightgbm.LGBMRegressor(\n",
    "        objective='regression_l2',\n",
    "        n_estimators=100,\n",
    "        random_state=3105, n_jobs=-1)\n",
    "    \n",
    "#    model_catboost = CatBoostRegressor(\n",
    "#        n_estimators=150, random_state=3105,\n",
    "#        cat_features=[0, 1, 2, 3, 4, 5, 6, 7, 8, 9, 10], verbose=False\n",
    "#    )\n",
    "    \n",
    "    model_lightgbm.fit(train[cols], train[target])\n",
    "    #model_catboost.fit(train[cols], train[target])\n",
    "\n",
    "    val.loc[:,'preds'] = model_lightgbm.predict(val[cols])#*0.5 + model_catboost.predict(val[cols])*0.5).clip(0)\n",
    "    \n",
    "    errors_list.append(np.sqrt(mean_squared_error(val['LOG_QTE'], val['preds'])))\n",
    "    print(pdv, errors_list[-1])\n",
    "    \n",
    "    # re-train\n",
    "    full_train = sub_ventes.query('ANNEE==2018 and TRIMESTRE<=4')\n",
    "        \n",
    "    model_lightgbm.fit(full_train[cols], full_train[target])\n",
    "    #model_catboost.fit(full_train[cols], full_train[target])\n",
    "    \n",
    "    test.loc[:,'preds'] = model_lightgbm.predict(test[cols])#*0.5 + model_catboost.predict(test[cols])*0.5).clip(0)\n",
    "    test['ID_PDV'] = pdv\n",
    "    \n",
    "    test_list.append(test)"
   ]
  },
  {
   "cell_type": "code",
   "execution_count": 9,
   "metadata": {
    "scrolled": true
   },
   "outputs": [
    {
     "data": {
      "text/plain": [
       "0.40564156017967884"
      ]
     },
     "execution_count": 9,
     "metadata": {},
     "output_type": "execute_result"
    }
   ],
   "source": [
    "np.mean(errors_list)"
   ]
  },
  {
   "cell_type": "code",
   "execution_count": 31,
   "metadata": {},
   "outputs": [
    {
     "data": {
      "text/plain": [
       "[0.39938809821371113,\n",
       " 0.30174495404875445,\n",
       " 0.4252814301384088,\n",
       " 0.3938084764330058,\n",
       " 0.5398875002512612,\n",
       " 0.4867613651423813,\n",
       " 0.43710964909219663,\n",
       " 0.38845642722793833,\n",
       " 0.4721106821571182,\n",
       " 0.44345856461197847,\n",
       " 0.25507797190973586,\n",
       " 0.4766050243265567,\n",
       " 0.500038265304032,\n",
       " 0.40859638135929693,\n",
       " 0.41302987682675835,\n",
       " 0.4407287568638606,\n",
       " 0.3784115073866522,\n",
       " 0.36507662183904044,\n",
       " 0.3168284066594765,\n",
       " 0.43595818294925576,\n",
       " 0.3246707594041865,\n",
       " 0.4139472242740266,\n",
       " 0.532570734690865,\n",
       " 0.35646706986069226,\n",
       " 0.5423997318090253,\n",
       " 0.38869206318141225,\n",
       " 0.4110122129499107,\n",
       " 0.41112233869738835,\n",
       " 0.6055189583104923,\n",
       " 0.531809265761711,\n",
       " 0.3902875866937196,\n",
       " 0.3899627892576616,\n",
       " 0.33054633216384816,\n",
       " 0.38184306480402896,\n",
       " 0.47086364186451624,\n",
       " 0.4593371294567678,\n",
       " 0.44560003868609466,\n",
       " 0.4528719032822338,\n",
       " 0.5056797190556654,\n",
       " 0.47804275741537244,\n",
       " 0.3484410154396597,\n",
       " 0.4825768787492057,\n",
       " 0.5410186865484123,\n",
       " 0.5014002393846132,\n",
       " 0.5075775243320372,\n",
       " 0.34477790053902657,\n",
       " 0.3859243908863921,\n",
       " 0.48879505854711636,\n",
       " 0.4266918964187408,\n",
       " 0.4498150550802541,\n",
       " 0.43440845907411335,\n",
       " 0.43141117795489964,\n",
       " 0.41096765619954206,\n",
       " 0.39460823030886955,\n",
       " 0.38224199027570727,\n",
       " 0.43102239415924704,\n",
       " 0.2949879918000081,\n",
       " 0.5509767070306303,\n",
       " 0.4741389888006345,\n",
       " 0.39852839896027,\n",
       " 0.28395264549316096,\n",
       " 0.2822108645416112,\n",
       " 0.4482283259681955,\n",
       " 0.39694931641959463,\n",
       " 0.4926236157581241,\n",
       " 0.3727222681178913,\n",
       " 0.2914383730956974,\n",
       " 0.5157285203251171,\n",
       " 0.42925466875354107,\n",
       " 0.4025595212105488,\n",
       " 0.4251374085439281,\n",
       " 0.4883098014110307,\n",
       " 0.33224002014632936,\n",
       " 0.5395848309902611,\n",
       " 0.5082972357195055,\n",
       " 0.45465650672226854,\n",
       " 0.44317473701712545,\n",
       " 0.3931332564406621,\n",
       " 0.37719958544790705,\n",
       " 0.40052296458732123,\n",
       " 0.38041604209256585,\n",
       " 0.4581000293286207,\n",
       " 0.35673936123067324,\n",
       " 0.443698349704622,\n",
       " 0.5038183178106245,\n",
       " 0.47356113262540267,\n",
       " 0.40598276313520876,\n",
       " 0.45665910828895556,\n",
       " 0.4172746660555833,\n",
       " 0.4412793029611321,\n",
       " 0.41222856120142903,\n",
       " 0.42697219654969387,\n",
       " 0.40449790934045926,\n",
       " 0.30633011864738047,\n",
       " 0.3784956438862144,\n",
       " 0.3292951062456607,\n",
       " 0.2686141583945217,\n",
       " 0.3211314433945273,\n",
       " 0.4389386881099449,\n",
       " 0.30055747893685225,\n",
       " 0.3659414414996257,\n",
       " 0.3488199827469179,\n",
       " 0.2757455504835689,\n",
       " 0.39461041475637115,\n",
       " 0.490265598804353,\n",
       " 0.34649267589651295,\n",
       " 0.4556925944354283,\n",
       " 0.4296632491706038,\n",
       " 0.460761174711886,\n",
       " 0.43973137650203376,\n",
       " 0.4151815188398918,\n",
       " 0.3032345846631421,\n",
       " 0.32506638441611285,\n",
       " 0.33810541072392075,\n",
       " 0.27515468700635637,\n",
       " 0.38643257038673623,\n",
       " 0.3711682282031943,\n",
       " 0.44177868776390644,\n",
       " 0.39548328694213314,\n",
       " 0.4478368269799547,\n",
       " 0.25947181498140537,\n",
       " 0.40364472714585886,\n",
       " 0.3771099293640718,\n",
       " 0.3926332688965875,\n",
       " 0.3909650625089906,\n",
       " 0.2913915234298265,\n",
       " 0.35337822589469814,\n",
       " 0.36746982126118144,\n",
       " 0.427312054260743,\n",
       " 0.4039073941410438,\n",
       " 0.49320923701685276,\n",
       " 0.4085589647980814,\n",
       " 0.32742529440517854,\n",
       " 0.3814348572993154,\n",
       " 0.32533500487604256,\n",
       " 0.3993200109356445,\n",
       " 0.3315241837743666,\n",
       " 0.4075729798227351,\n",
       " 0.28468159008552274,\n",
       " 0.32150545881465986,\n",
       " 0.3493791857059236,\n",
       " 0.44447688175874644,\n",
       " 0.516737485365564,\n",
       " 0.2931435909742731,\n",
       " 0.41499295797109237,\n",
       " 0.4260300077556311,\n",
       " 0.3212563912248303,\n",
       " 0.315970614231105,\n",
       " 0.3191587536392157]"
      ]
     },
     "execution_count": 31,
     "metadata": {},
     "output_type": "execute_result"
    }
   ],
   "source": [
    "errors_list"
   ]
  },
  {
   "cell_type": "code",
   "execution_count": 10,
   "metadata": {
    "executionInfo": {
     "elapsed": 5989,
     "status": "ok",
     "timestamp": 1620395118069,
     "user": {
      "displayName": "binvignat.j@gmail.com",
      "photoUrl": "",
      "userId": "07817802643777078977"
     },
     "user_tz": -120
    },
    "id": "FllyYGxM0zMz"
   },
   "outputs": [],
   "source": [
    "submission_file = pd.concat(test_list)"
   ]
  },
  {
   "cell_type": "code",
   "execution_count": 11,
   "metadata": {
    "id": "vcHfvyLbPv1X"
   },
   "outputs": [],
   "source": [
    "submission_file['raw_qte'] = np.expm1(submission_file['preds'].clip(0))\n",
    "submission_file['qte'] = np.expm1(submission_file['preds'].clip(0)).round().astype(int)\n",
    "submission_file['id'] = submission_file['ID_PDV'].astype(str) + \"_\" + \\\n",
    "                        submission_file['ID_ARTC'].astype(str) + '_' + \\\n",
    "                        submission_file['DATE'].dt.strftime('%Y%m%d').astype(str)"
   ]
  },
  {
   "cell_type": "code",
   "execution_count": 12,
   "metadata": {},
   "outputs": [
    {
     "data": {
      "text/html": [
       "<div>\n",
       "<style scoped>\n",
       "    .dataframe tbody tr th:only-of-type {\n",
       "        vertical-align: middle;\n",
       "    }\n",
       "\n",
       "    .dataframe tbody tr th {\n",
       "        vertical-align: top;\n",
       "    }\n",
       "\n",
       "    .dataframe thead th {\n",
       "        text-align: right;\n",
       "    }\n",
       "</style>\n",
       "<table border=\"1\" class=\"dataframe\">\n",
       "  <thead>\n",
       "    <tr style=\"text-align: right;\">\n",
       "      <th></th>\n",
       "      <th>id</th>\n",
       "      <th>qte</th>\n",
       "      <th>raw_qte</th>\n",
       "    </tr>\n",
       "  </thead>\n",
       "  <tbody>\n",
       "    <tr>\n",
       "      <th>912500</th>\n",
       "      <td>102_905_20190101</td>\n",
       "      <td>0</td>\n",
       "      <td>0.063775</td>\n",
       "    </tr>\n",
       "    <tr>\n",
       "      <th>912501</th>\n",
       "      <td>102_477_20190101</td>\n",
       "      <td>0</td>\n",
       "      <td>0.000000</td>\n",
       "    </tr>\n",
       "    <tr>\n",
       "      <th>912502</th>\n",
       "      <td>102_863_20190101</td>\n",
       "      <td>0</td>\n",
       "      <td>0.000000</td>\n",
       "    </tr>\n",
       "    <tr>\n",
       "      <th>912503</th>\n",
       "      <td>102_1741_20190101</td>\n",
       "      <td>0</td>\n",
       "      <td>0.086159</td>\n",
       "    </tr>\n",
       "    <tr>\n",
       "      <th>912504</th>\n",
       "      <td>102_983_20190101</td>\n",
       "      <td>0</td>\n",
       "      <td>0.054615</td>\n",
       "    </tr>\n",
       "  </tbody>\n",
       "</table>\n",
       "</div>"
      ],
      "text/plain": [
       "                       id  qte   raw_qte\n",
       "912500   102_905_20190101    0  0.063775\n",
       "912501   102_477_20190101    0  0.000000\n",
       "912502   102_863_20190101    0  0.000000\n",
       "912503  102_1741_20190101    0  0.086159\n",
       "912504   102_983_20190101    0  0.054615"
      ]
     },
     "execution_count": 12,
     "metadata": {},
     "output_type": "execute_result"
    }
   ],
   "source": [
    "submission_file[['id', 'qte', 'raw_qte']].head()"
   ]
  },
  {
   "cell_type": "code",
   "execution_count": 13,
   "metadata": {
    "id": "V13zWDo1QFEl"
   },
   "outputs": [],
   "source": [
    "submission_file.query('qte!=0')[['id', 'qte']].to_csv('submit_3.csv.zip', index=False, compression=\"zip\")"
   ]
  },
  {
   "cell_type": "code",
   "execution_count": 14,
   "metadata": {},
   "outputs": [],
   "source": [
    "submission_file[['id', 'qte', 'raw_qte']].to_csv('submit_3_raw.csv.zip', index=False, compression=\"zip\")"
   ]
  },
  {
   "cell_type": "code",
   "execution_count": 29,
   "metadata": {},
   "outputs": [
    {
     "data": {
      "text/html": [
       "<div>\n",
       "<style scoped>\n",
       "    .dataframe tbody tr th:only-of-type {\n",
       "        vertical-align: middle;\n",
       "    }\n",
       "\n",
       "    .dataframe tbody tr th {\n",
       "        vertical-align: top;\n",
       "    }\n",
       "\n",
       "    .dataframe thead th {\n",
       "        text-align: right;\n",
       "    }\n",
       "</style>\n",
       "<table border=\"1\" class=\"dataframe\">\n",
       "  <thead>\n",
       "    <tr style=\"text-align: right;\">\n",
       "      <th></th>\n",
       "      <th>ID_ARTC</th>\n",
       "      <th>DATE</th>\n",
       "      <th>QTE</th>\n",
       "      <th>TRIMESTRE</th>\n",
       "      <th>ANNEE</th>\n",
       "      <th>LB_VENT_RAYN</th>\n",
       "      <th>LB_VENT_FAML</th>\n",
       "      <th>LB_VENT_SOUS_FAML</th>\n",
       "      <th>ORD_PRIX</th>\n",
       "      <th>PRIX_UNITAIRE</th>\n",
       "      <th>...</th>\n",
       "      <th>HOLIDAYS</th>\n",
       "      <th>holiday_zone_A</th>\n",
       "      <th>holiday_zone_B</th>\n",
       "      <th>holiday_zone_C</th>\n",
       "      <th>LOG_QTE</th>\n",
       "      <th>preds</th>\n",
       "      <th>ID_PDV</th>\n",
       "      <th>raw_qte</th>\n",
       "      <th>qte</th>\n",
       "      <th>id</th>\n",
       "    </tr>\n",
       "  </thead>\n",
       "  <tbody>\n",
       "    <tr>\n",
       "      <th>978400</th>\n",
       "      <td>952</td>\n",
       "      <td>2019-01-27</td>\n",
       "      <td>0.0</td>\n",
       "      <td>1</td>\n",
       "      <td>2019</td>\n",
       "      <td>PAIN PAT LS INDUS</td>\n",
       "      <td>PATISSERIE LS TRADITIONNELLE</td>\n",
       "      <td>PATISSERIE LS TRADITIONNELLE - SS-FAML 3</td>\n",
       "      <td>NaN</td>\n",
       "      <td>NaN</td>\n",
       "      <td>...</td>\n",
       "      <td>False</td>\n",
       "      <td>False</td>\n",
       "      <td>False</td>\n",
       "      <td>False</td>\n",
       "      <td>0.0</td>\n",
       "      <td>-0.014194</td>\n",
       "      <td>131</td>\n",
       "      <td>0.0</td>\n",
       "      <td>0</td>\n",
       "      <td>131_952_20190127</td>\n",
       "    </tr>\n",
       "  </tbody>\n",
       "</table>\n",
       "<p>1 rows × 24 columns</p>\n",
       "</div>"
      ],
      "text/plain": [
       "       ID_ARTC       DATE  QTE  TRIMESTRE  ANNEE       LB_VENT_RAYN  \\\n",
       "978400     952 2019-01-27  0.0          1   2019  PAIN PAT LS INDUS   \n",
       "\n",
       "                        LB_VENT_FAML  \\\n",
       "978400  PATISSERIE LS TRADITIONNELLE   \n",
       "\n",
       "                               LB_VENT_SOUS_FAML  ORD_PRIX PRIX_UNITAIRE  ...  \\\n",
       "978400  PATISSERIE LS TRADITIONNELLE - SS-FAML 3       NaN           NaN  ...   \n",
       "\n",
       "        HOLIDAYS holiday_zone_A holiday_zone_B  holiday_zone_C  LOG_QTE  \\\n",
       "978400     False          False          False           False      0.0   \n",
       "\n",
       "           preds  ID_PDV  raw_qte  qte                id  \n",
       "978400 -0.014194     131      0.0    0  131_952_20190127  \n",
       "\n",
       "[1 rows x 24 columns]"
      ]
     },
     "execution_count": 29,
     "metadata": {},
     "output_type": "execute_result"
    }
   ],
   "source": [
    "submission_file.sample()"
   ]
  },
  {
   "cell_type": "code",
   "execution_count": 30,
   "metadata": {},
   "outputs": [
    {
     "data": {
      "text/plain": [
       "<AxesSubplot:xlabel='DATE'>"
      ]
     },
     "execution_count": 30,
     "metadata": {},
     "output_type": "execute_result"
    },
    {
     "data": {
      "image/png": "[encoded data removed]",
      "text/plain": [
       "<Figure size 432x288 with 1 Axes>"
      ]
     },
     "metadata": {
      "needs_background": "light"
     },
     "output_type": "display_data"
    }
   ],
   "source": [
    "submission_file.query('ID_ARTC==952 and ID_PDV==131').set_index('DATE')['qte'].plot()"
   ]
  }
 ],
 "metadata": {
  "colab": {
   "authorship_tag": "ABX9TyMWF9v/5Fy/k8rPUHF11iQc",
   "collapsed_sections": [],
   "mount_file_id": "1RZ0Utb-ezS4w9-MtZW1PCsXcw0UX_ZlC",
   "name": "Intermarche-Challenge-EDA.ipynb",
   "provenance": []
  },
  "kernelspec": {
   "display_name": "Python 3",
   "language": "python",
   "name": "python3"
  },
  "language_info": {
   "codemirror_mode": {
    "name": "ipython",
    "version": 3
   },
   "file_extension": ".py",
   "mimetype": "text/x-python",
   "name": "python",
   "nbconvert_exporter": "python",
   "pygments_lexer": "ipython3",
   "version": "3.6.13"
  }
 },
 "nbformat": 4,
 "nbformat_minor": 1
}
