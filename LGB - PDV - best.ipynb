{
 "cells": [
  {
   "cell_type": "markdown",
   "metadata": {
    "id": "nwocB0gwbj3M"
   },
   "source": [
    "## Packages & utils"
   ]
  },
  {
   "cell_type": "code",
   "execution_count": 1,
   "metadata": {
    "executionInfo": {
     "elapsed": 2538,
     "status": "ok",
     "timestamp": 1620386975955,
     "user": {
      "displayName": "binvignat.j@gmail.com",
      "photoUrl": "",
      "userId": "07817802643777078977"
     },
     "user_tz": -120
    },
    "id": "lAFapFknZlji"
   },
   "outputs": [],
   "source": [
    "import itertools\n",
    "\n",
    "import numpy as np\n",
    "import pandas as pd\n",
    "from tqdm import tqdm\n",
    "import lightgbm\n",
    "import holidays\n",
    "\n",
    "from sklearn.metrics import mean_squared_error\n",
    "\n",
    "fr_holidays = holidays.CountryHoliday('FRA')\n",
    "\n",
    "from vacances_scolaires_france import SchoolHolidayDates\n",
    "school_holidays = SchoolHolidayDates()"
   ]
  },
  {
   "cell_type": "markdown",
   "metadata": {
    "id": "E9w5mOu9bsR1"
   },
   "source": [
    "## Données"
   ]
  },
  {
   "cell_type": "code",
   "execution_count": 2,
   "metadata": {
    "executionInfo": {
     "elapsed": 27219,
     "status": "ok",
     "timestamp": 1620387000644,
     "user": {
      "displayName": "binvignat.j@gmail.com",
      "photoUrl": "",
      "userId": "07817802643777078977"
     },
     "user_tz": -120
    },
    "id": "nCszYUZ5bxNC"
   },
   "outputs": [],
   "source": [
    "nomenclature_produits = pd.read_csv('data/nomenclature_produits.csv')\n",
    "\n",
    "points_de_vente = pd.read_csv('data/points_de_vente.csv')\n",
    "prix_vente = pd.read_csv('data/prix_vente.csv')\n",
    "\n",
    "prix_vente['ORD_PRIX'] = prix_vente['PRIX_UNITAIRE'].apply(lambda x: float(x.split(' ')[-1].replace('€', '')))\n",
    "\n",
    "ventes_2018 = pd.read_csv('data/ventes_2018.csv.zip',\n",
    "                          parse_dates=['DATE'])"
   ]
  },
  {
   "cell_type": "code",
   "execution_count": 3,
   "metadata": {
    "executionInfo": {
     "elapsed": 27887,
     "status": "ok",
     "timestamp": 1620387001319,
     "user": {
      "displayName": "binvignat.j@gmail.com",
      "photoUrl": "",
      "userId": "07817802643777078977"
     },
     "user_tz": -120
    },
    "id": "FK2wp_JPlZjp"
   },
   "outputs": [],
   "source": [
    "artc_list = ventes_2018['ID_ARTC'].drop_duplicates().tolist()\n",
    "pdv_list = ventes_2018['ID_PDV'].drop_duplicates().tolist()"
   ]
  },
  {
   "cell_type": "code",
   "execution_count": 4,
   "metadata": {
    "executionInfo": {
     "elapsed": 29329,
     "status": "ok",
     "timestamp": 1620387002768,
     "user": {
      "displayName": "binvignat.j@gmail.com",
      "photoUrl": "",
      "userId": "07817802643777078977"
     },
     "user_tz": -120
    },
    "id": "OTPVCB9eccWW"
   },
   "outputs": [],
   "source": [
    "dates = pd.date_range('2018-01-01', '2019-03-31')\n",
    "combines = pd.DataFrame(itertools.product(artc_list, dates),\n",
    "                        columns=['ID_ARTC', 'DATE']\n",
    "                        )"
   ]
  },
  {
   "cell_type": "code",
   "execution_count": 5,
   "metadata": {},
   "outputs": [],
   "source": [
    "dates_dataframe = combines[['DATE']].drop_duplicates()\n",
    "dates_dataframe['holiday_zone_A'] = dates_dataframe['DATE'].dt.date\\\n",
    "                                    .apply(lambda x: school_holidays.is_holiday_for_zone(x, 'A'))\n",
    "dates_dataframe['holiday_zone_B'] = dates_dataframe['DATE'].dt.date\\\n",
    "                                    .apply(lambda x: school_holidays.is_holiday_for_zone(x, 'B'))\n",
    "dates_dataframe['holiday_zone_C'] = dates_dataframe['DATE'].dt.date\\\n",
    "                                    .apply(lambda x: school_holidays.is_holiday_for_zone(x, 'C'))"
   ]
  },
  {
   "cell_type": "code",
   "execution_count": 7,
   "metadata": {
    "executionInfo": {
     "elapsed": 29325,
     "status": "ok",
     "timestamp": 1620387002770,
     "user": {
      "displayName": "binvignat.j@gmail.com",
      "photoUrl": "",
      "userId": "07817802643777078977"
     },
     "user_tz": -120
    },
    "id": "GlkFJs2V8pRa"
   },
   "outputs": [],
   "source": [
    "import warnings\n",
    "warnings.filterwarnings(\"ignore\")"
   ]
  },
  {
   "cell_type": "markdown",
   "metadata": {
    "id": "Tdneml3xnu7j"
   },
   "source": [
    "## PDV model"
   ]
  },
  {
   "cell_type": "code",
   "execution_count": 7,
   "metadata": {},
   "outputs": [],
   "source": [
    "from sklearn.linear_model import Ridge \n",
    "from sklearn.ensemble import StackingRegressor, BaggingRegressor\n",
    "\n",
    "from catboost import CatBoostRegressor"
   ]
  },
  {
   "cell_type": "code",
   "execution_count": 9,
   "metadata": {},
   "outputs": [
    {
     "name": "stderr",
     "output_type": "stream",
     "text": [
      "\r",
      "  0%|          | 0/149 [00:00<?, ?it/s]"
     ]
    },
    {
     "name": "stdout",
     "output_type": "stream",
     "text": [
      "102 0.48783767609877254\n"
     ]
    },
    {
     "name": "stderr",
     "output_type": "stream",
     "text": [
      "\r",
      "  1%|          | 1/149 [00:07<19:38,  7.97s/it]"
     ]
    },
    {
     "name": "stdout",
     "output_type": "stream",
     "text": [
      "5 0.41608177440617666\n"
     ]
    },
    {
     "name": "stderr",
     "output_type": "stream",
     "text": [
      "\r",
      "  1%|▏         | 2/149 [00:14<17:49,  7.28s/it]"
     ]
    },
    {
     "name": "stdout",
     "output_type": "stream",
     "text": [
      "87 0.49813938972417887\n"
     ]
    },
    {
     "name": "stderr",
     "output_type": "stream",
     "text": [
      "\r",
      "  2%|▏         | 3/149 [00:24<20:47,  8.54s/it]"
     ]
    },
    {
     "name": "stdout",
     "output_type": "stream",
     "text": [
      "118 0.47738451054372183\n"
     ]
    },
    {
     "name": "stderr",
     "output_type": "stream",
     "text": [
      "\r",
      "  3%|▎         | 4/149 [00:34<22:05,  9.14s/it]"
     ]
    },
    {
     "name": "stdout",
     "output_type": "stream",
     "text": [
      "39 0.606833421518746\n"
     ]
    },
    {
     "name": "stderr",
     "output_type": "stream",
     "text": [
      "\r",
      "  3%|▎         | 5/149 [00:47<25:02, 10.43s/it]"
     ]
    },
    {
     "name": "stdout",
     "output_type": "stream",
     "text": [
      "123 0.5625016346040942\n"
     ]
    },
    {
     "name": "stderr",
     "output_type": "stream",
     "text": [
      "\r",
      "  4%|▍         | 6/149 [00:58<24:59, 10.48s/it]"
     ]
    },
    {
     "name": "stdout",
     "output_type": "stream",
     "text": [
      "128 0.5142562749543139\n"
     ]
    },
    {
     "name": "stderr",
     "output_type": "stream",
     "text": [
      "\r",
      "  5%|▍         | 7/149 [01:07<24:13, 10.23s/it]"
     ]
    },
    {
     "name": "stdout",
     "output_type": "stream",
     "text": [
      "140 0.4748929111686804\n"
     ]
    },
    {
     "name": "stderr",
     "output_type": "stream",
     "text": [
      "\r",
      "  5%|▌         | 8/149 [01:16<23:04,  9.82s/it]"
     ]
    },
    {
     "name": "stdout",
     "output_type": "stream",
     "text": [
      "130 0.5162455008374702\n"
     ]
    },
    {
     "name": "stderr",
     "output_type": "stream",
     "text": [
      "\r",
      "  6%|▌         | 9/149 [01:29<25:06, 10.76s/it]"
     ]
    },
    {
     "name": "stdout",
     "output_type": "stream",
     "text": [
      "95 0.5109366459144353\n"
     ]
    },
    {
     "name": "stderr",
     "output_type": "stream",
     "text": [
      "\r",
      "  7%|▋         | 10/149 [01:40<25:02, 10.81s/it]"
     ]
    },
    {
     "name": "stdout",
     "output_type": "stream",
     "text": [
      "25 0.46301076045165795\n"
     ]
    },
    {
     "name": "stderr",
     "output_type": "stream",
     "text": [
      "\r",
      "  7%|▋         | 11/149 [01:44<20:14,  8.80s/it]"
     ]
    },
    {
     "name": "stdout",
     "output_type": "stream",
     "text": [
      "133 0.546564672363846\n"
     ]
    },
    {
     "name": "stderr",
     "output_type": "stream",
     "text": [
      "\r",
      "  8%|▊         | 12/149 [01:58<23:24, 10.25s/it]"
     ]
    },
    {
     "name": "stdout",
     "output_type": "stream",
     "text": [
      "63 0.5670103354080599\n"
     ]
    },
    {
     "name": "stderr",
     "output_type": "stream",
     "text": [
      "\r",
      "  9%|▊         | 13/149 [02:17<29:00, 12.80s/it]"
     ]
    },
    {
     "name": "stdout",
     "output_type": "stream",
     "text": [
      "146 0.4884265191068136\n"
     ]
    },
    {
     "name": "stderr",
     "output_type": "stream",
     "text": [
      "\r",
      "  9%|▉         | 14/149 [02:27<27:29, 12.22s/it]"
     ]
    },
    {
     "name": "stdout",
     "output_type": "stream",
     "text": [
      "90 0.4901088657364114\n"
     ]
    },
    {
     "name": "stderr",
     "output_type": "stream",
     "text": [
      "\r",
      " 10%|█         | 15/149 [02:42<28:54, 12.94s/it]"
     ]
    },
    {
     "name": "stdout",
     "output_type": "stream",
     "text": [
      "116 0.49496583416366896\n"
     ]
    },
    {
     "name": "stderr",
     "output_type": "stream",
     "text": [
      "\r",
      " 11%|█         | 16/149 [02:55<28:46, 12.98s/it]"
     ]
    },
    {
     "name": "stdout",
     "output_type": "stream",
     "text": [
      "73 0.4655587586005541\n"
     ]
    },
    {
     "name": "stderr",
     "output_type": "stream",
     "text": [
      "\r",
      " 11%|█▏        | 17/149 [03:03<25:27, 11.57s/it]"
     ]
    },
    {
     "name": "stdout",
     "output_type": "stream",
     "text": [
      "71 0.4545282510443907\n"
     ]
    },
    {
     "name": "stderr",
     "output_type": "stream",
     "text": [
      "\r",
      " 12%|█▏        | 18/149 [03:15<25:04, 11.48s/it]"
     ]
    },
    {
     "name": "stdout",
     "output_type": "stream",
     "text": [
      "23 0.4266159174346561\n"
     ]
    },
    {
     "name": "stderr",
     "output_type": "stream",
     "text": [
      "\r",
      " 13%|█▎        | 19/149 [03:24<23:32, 10.87s/it]"
     ]
    },
    {
     "name": "stdout",
     "output_type": "stream",
     "text": [
      "132 0.5198495836611294\n"
     ]
    },
    {
     "name": "stderr",
     "output_type": "stream",
     "text": [
      "\r",
      " 13%|█▎        | 20/149 [03:34<22:39, 10.54s/it]"
     ]
    },
    {
     "name": "stdout",
     "output_type": "stream",
     "text": [
      "33 0.4922508032006596\n"
     ]
    },
    {
     "name": "stderr",
     "output_type": "stream",
     "text": [
      "\r",
      " 14%|█▍        | 21/149 [03:40<19:21,  9.07s/it]"
     ]
    },
    {
     "name": "stdout",
     "output_type": "stream",
     "text": [
      "74 0.4834518876764269\n"
     ]
    },
    {
     "name": "stderr",
     "output_type": "stream",
     "text": [
      "\r",
      " 15%|█▍        | 22/149 [03:51<20:33,  9.71s/it]"
     ]
    },
    {
     "name": "stdout",
     "output_type": "stream",
     "text": [
      "144 0.5963094487566915\n"
     ]
    },
    {
     "name": "stderr",
     "output_type": "stream",
     "text": [
      "\r",
      " 15%|█▌        | 23/149 [04:08<25:14, 12.02s/it]"
     ]
    },
    {
     "name": "stdout",
     "output_type": "stream",
     "text": [
      "76 0.449760688130622\n"
     ]
    },
    {
     "name": "stderr",
     "output_type": "stream",
     "text": [
      "\r",
      " 16%|█▌        | 24/149 [04:16<22:44, 10.91s/it]"
     ]
    },
    {
     "name": "stdout",
     "output_type": "stream",
     "text": [
      "142 0.6035202756818044\n"
     ]
    },
    {
     "name": "stderr",
     "output_type": "stream",
     "text": [
      "\r",
      " 17%|█▋        | 25/149 [04:27<22:27, 10.87s/it]"
     ]
    },
    {
     "name": "stdout",
     "output_type": "stream",
     "text": [
      "31 0.5531699341106476\n"
     ]
    },
    {
     "name": "stderr",
     "output_type": "stream",
     "text": [
      "\r",
      " 17%|█▋        | 26/149 [04:34<19:36,  9.57s/it]"
     ]
    },
    {
     "name": "stdout",
     "output_type": "stream",
     "text": [
      "52 0.5018269785388689\n"
     ]
    },
    {
     "name": "stderr",
     "output_type": "stream",
     "text": [
      "\r",
      " 18%|█▊        | 27/149 [04:42<18:53,  9.29s/it]"
     ]
    },
    {
     "name": "stdout",
     "output_type": "stream",
     "text": [
      "96 0.49765781153943234\n"
     ]
    },
    {
     "name": "stderr",
     "output_type": "stream",
     "text": [
      "\r",
      " 19%|█▉        | 28/149 [04:58<22:36, 11.21s/it]"
     ]
    },
    {
     "name": "stdout",
     "output_type": "stream",
     "text": [
      "38 0.6402216430990803\n"
     ]
    },
    {
     "name": "stderr",
     "output_type": "stream",
     "text": [
      "\r",
      " 19%|█▉        | 29/149 [05:11<23:34, 11.78s/it]"
     ]
    },
    {
     "name": "stdout",
     "output_type": "stream",
     "text": [
      "143 0.6085145663157359\n"
     ]
    },
    {
     "name": "stderr",
     "output_type": "stream",
     "text": [
      "\r",
      " 20%|██        | 30/149 [05:21<22:26, 11.32s/it]"
     ]
    },
    {
     "name": "stdout",
     "output_type": "stream",
     "text": [
      "43 0.4717378900455591\n"
     ]
    },
    {
     "name": "stderr",
     "output_type": "stream",
     "text": [
      "\r",
      " 21%|██        | 31/149 [05:34<23:04, 11.73s/it]"
     ]
    },
    {
     "name": "stdout",
     "output_type": "stream",
     "text": [
      "89 0.49275148476472613\n"
     ]
    },
    {
     "name": "stderr",
     "output_type": "stream",
     "text": [
      "\r",
      " 21%|██▏       | 32/149 [05:44<21:36, 11.08s/it]"
     ]
    },
    {
     "name": "stdout",
     "output_type": "stream",
     "text": [
      "19 0.45993678546686634\n"
     ]
    },
    {
     "name": "stderr",
     "output_type": "stream",
     "text": [
      "\r",
      " 22%|██▏       | 33/149 [05:50<18:53,  9.77s/it]"
     ]
    },
    {
     "name": "stdout",
     "output_type": "stream",
     "text": [
      "110 0.4968043794363784\n"
     ]
    },
    {
     "name": "stderr",
     "output_type": "stream",
     "text": [
      "\r",
      " 23%|██▎       | 34/149 [05:57<17:06,  8.92s/it]"
     ]
    },
    {
     "name": "stdout",
     "output_type": "stream",
     "text": [
      "45 0.5467744426374803\n"
     ]
    },
    {
     "name": "stderr",
     "output_type": "stream",
     "text": [
      "\r",
      " 23%|██▎       | 35/149 [06:07<17:30,  9.22s/it]"
     ]
    },
    {
     "name": "stdout",
     "output_type": "stream",
     "text": [
      "122 0.5213589045880526\n"
     ]
    },
    {
     "name": "stderr",
     "output_type": "stream",
     "text": [
      "\r",
      " 24%|██▍       | 36/149 [06:19<18:48,  9.99s/it]"
     ]
    },
    {
     "name": "stdout",
     "output_type": "stream",
     "text": [
      "149 0.4918250697966241\n"
     ]
    },
    {
     "name": "stderr",
     "output_type": "stream",
     "text": [
      "\r",
      " 25%|██▍       | 37/149 [06:30<19:15, 10.32s/it]"
     ]
    },
    {
     "name": "stdout",
     "output_type": "stream",
     "text": [
      "66 0.5482989211952871\n"
     ]
    },
    {
     "name": "stderr",
     "output_type": "stream",
     "text": [
      "\r",
      " 26%|██▌       | 38/149 [06:40<18:35, 10.05s/it]"
     ]
    },
    {
     "name": "stdout",
     "output_type": "stream",
     "text": [
      "85 0.5612082898036861\n"
     ]
    },
    {
     "name": "stderr",
     "output_type": "stream",
     "text": [
      "\r",
      " 26%|██▌       | 39/149 [06:57<22:26, 12.24s/it]"
     ]
    },
    {
     "name": "stdout",
     "output_type": "stream",
     "text": [
      "60 0.5577560761363642\n"
     ]
    },
    {
     "name": "stderr",
     "output_type": "stream",
     "text": [
      "\r",
      " 27%|██▋       | 40/149 [07:08<21:30, 11.84s/it]"
     ]
    },
    {
     "name": "stdout",
     "output_type": "stream",
     "text": [
      "69 0.42592752512385035\n"
     ]
    },
    {
     "name": "stderr",
     "output_type": "stream",
     "text": [
      "\r",
      " 28%|██▊       | 41/149 [07:17<19:42, 10.95s/it]"
     ]
    },
    {
     "name": "stdout",
     "output_type": "stream",
     "text": [
      "131 0.5361395996910384\n"
     ]
    },
    {
     "name": "stderr",
     "output_type": "stream",
     "text": [
      "\r",
      " 28%|██▊       | 42/149 [07:31<21:03, 11.80s/it]"
     ]
    },
    {
     "name": "stdout",
     "output_type": "stream",
     "text": [
      "127 0.5937971267736565\n"
     ]
    },
    {
     "name": "stderr",
     "output_type": "stream",
     "text": [
      "\r",
      " 29%|██▉       | 43/149 [07:44<21:56, 12.42s/it]"
     ]
    },
    {
     "name": "stdout",
     "output_type": "stream",
     "text": [
      "36 0.558097843333706\n"
     ]
    },
    {
     "name": "stderr",
     "output_type": "stream",
     "text": [
      "\r",
      " 30%|██▉       | 44/149 [07:55<20:47, 11.88s/it]"
     ]
    },
    {
     "name": "stdout",
     "output_type": "stream",
     "text": [
      "35 0.5676460099972315\n"
     ]
    },
    {
     "name": "stderr",
     "output_type": "stream",
     "text": [
      "\r",
      " 30%|███       | 45/149 [08:12<23:02, 13.30s/it]"
     ]
    },
    {
     "name": "stdout",
     "output_type": "stream",
     "text": [
      "57 0.4567314860900275\n"
     ]
    },
    {
     "name": "stderr",
     "output_type": "stream",
     "text": [
      "\r",
      " 31%|███       | 46/149 [08:22<21:27, 12.50s/it]"
     ]
    },
    {
     "name": "stdout",
     "output_type": "stream",
     "text": [
      "65 0.4447434492801318\n"
     ]
    },
    {
     "name": "stderr",
     "output_type": "stream",
     "text": [
      "\r",
      " 32%|███▏      | 47/149 [08:32<20:01, 11.78s/it]"
     ]
    },
    {
     "name": "stdout",
     "output_type": "stream",
     "text": [
      "83 0.5740338238900953\n"
     ]
    },
    {
     "name": "stderr",
     "output_type": "stream",
     "text": [
      "\r",
      " 32%|███▏      | 48/149 [08:42<18:35, 11.04s/it]"
     ]
    },
    {
     "name": "stdout",
     "output_type": "stream",
     "text": [
      "120 0.5096933847706088\n"
     ]
    },
    {
     "name": "stderr",
     "output_type": "stream",
     "text": [
      "\r",
      " 33%|███▎      | 49/149 [08:52<18:09, 10.89s/it]"
     ]
    },
    {
     "name": "stdout",
     "output_type": "stream",
     "text": [
      "103 0.5125518433614903\n"
     ]
    },
    {
     "name": "stderr",
     "output_type": "stream",
     "text": [
      "\r",
      " 34%|███▎      | 50/149 [09:13<22:40, 13.74s/it]"
     ]
    },
    {
     "name": "stdout",
     "output_type": "stream",
     "text": [
      "70 0.5070570539137816\n"
     ]
    },
    {
     "name": "stderr",
     "output_type": "stream",
     "text": [
      "\r",
      " 34%|███▍      | 51/149 [09:24<21:09, 12.96s/it]"
     ]
    },
    {
     "name": "stdout",
     "output_type": "stream",
     "text": [
      "108 0.5231556810348297\n"
     ]
    },
    {
     "name": "stderr",
     "output_type": "stream",
     "text": [
      "\r",
      " 35%|███▍      | 52/149 [09:34<19:26, 12.03s/it]"
     ]
    },
    {
     "name": "stdout",
     "output_type": "stream",
     "text": [
      "29 0.519970756442975\n"
     ]
    },
    {
     "name": "stderr",
     "output_type": "stream",
     "text": [
      "\r",
      " 36%|███▌      | 53/149 [09:42<17:20, 10.84s/it]"
     ]
    },
    {
     "name": "stdout",
     "output_type": "stream",
     "text": [
      "82 0.4633810951962471\n"
     ]
    },
    {
     "name": "stderr",
     "output_type": "stream",
     "text": [
      "\r",
      " 36%|███▌      | 54/149 [09:51<16:38, 10.51s/it]"
     ]
    },
    {
     "name": "stdout",
     "output_type": "stream",
     "text": [
      "27 0.5381588512470452\n"
     ]
    },
    {
     "name": "stderr",
     "output_type": "stream",
     "text": [
      "\r",
      " 37%|███▋      | 55/149 [09:59<15:16,  9.75s/it]"
     ]
    },
    {
     "name": "stdout",
     "output_type": "stream",
     "text": [
      "136 0.509815888498598\n"
     ]
    },
    {
     "name": "stderr",
     "output_type": "stream",
     "text": [
      "\r",
      " 38%|███▊      | 56/149 [10:13<17:01, 10.98s/it]"
     ]
    },
    {
     "name": "stdout",
     "output_type": "stream",
     "text": [
      "9 0.4205213518026735\n"
     ]
    },
    {
     "name": "stderr",
     "output_type": "stream",
     "text": [
      "\r",
      " 38%|███▊      | 57/149 [10:22<15:38, 10.21s/it]"
     ]
    },
    {
     "name": "stdout",
     "output_type": "stream",
     "text": [
      "37 0.6003419092771167\n"
     ]
    },
    {
     "name": "stderr",
     "output_type": "stream",
     "text": [
      "\r",
      " 39%|███▉      | 58/149 [10:33<16:14, 10.71s/it]"
     ]
    },
    {
     "name": "stdout",
     "output_type": "stream",
     "text": [
      "26 0.5911442945098003\n"
     ]
    },
    {
     "name": "stderr",
     "output_type": "stream",
     "text": [
      "\r",
      " 40%|███▉      | 59/149 [10:42<15:11, 10.13s/it]"
     ]
    },
    {
     "name": "stdout",
     "output_type": "stream",
     "text": [
      "84 0.46789787478079403\n"
     ]
    },
    {
     "name": "stderr",
     "output_type": "stream",
     "text": [
      "\r",
      " 40%|████      | 60/149 [10:54<15:47, 10.64s/it]"
     ]
    },
    {
     "name": "stdout",
     "output_type": "stream",
     "text": [
      "7 0.3982240150347527\n"
     ]
    },
    {
     "name": "stderr",
     "output_type": "stream",
     "text": [
      "\r",
      " 41%|████      | 61/149 [11:05<15:45, 10.75s/it]"
     ]
    },
    {
     "name": "stdout",
     "output_type": "stream",
     "text": [
      "8 0.4308596635743223\n"
     ]
    },
    {
     "name": "stderr",
     "output_type": "stream",
     "text": [
      "\r",
      " 42%|████▏     | 62/149 [11:11<13:23,  9.23s/it]"
     ]
    },
    {
     "name": "stdout",
     "output_type": "stream",
     "text": [
      "79 0.5338846333049123\n"
     ]
    },
    {
     "name": "stderr",
     "output_type": "stream",
     "text": [
      "\r",
      " 42%|████▏     | 63/149 [11:20<13:16,  9.27s/it]"
     ]
    },
    {
     "name": "stdout",
     "output_type": "stream",
     "text": [
      "99 0.48181187726208186\n"
     ]
    },
    {
     "name": "stderr",
     "output_type": "stream",
     "text": [
      "\r",
      " 43%|████▎     | 64/149 [11:29<12:59,  9.17s/it]"
     ]
    },
    {
     "name": "stdout",
     "output_type": "stream",
     "text": [
      "34 0.5493771024441013\n"
     ]
    },
    {
     "name": "stderr",
     "output_type": "stream",
     "text": [
      "\r",
      " 44%|████▎     | 65/149 [11:46<16:00, 11.44s/it]"
     ]
    },
    {
     "name": "stdout",
     "output_type": "stream",
     "text": [
      "51 0.4534063797628115\n"
     ]
    },
    {
     "name": "stderr",
     "output_type": "stream",
     "text": [
      "\r",
      " 44%|████▍     | 66/149 [11:54<14:35, 10.55s/it]"
     ]
    },
    {
     "name": "stdout",
     "output_type": "stream",
     "text": [
      "28 0.45280575044465365\n"
     ]
    },
    {
     "name": "stderr",
     "output_type": "stream",
     "text": [
      "\r",
      " 45%|████▍     | 67/149 [11:59<12:08,  8.89s/it]"
     ]
    },
    {
     "name": "stdout",
     "output_type": "stream",
     "text": [
      "107 0.5864395626807819\n"
     ]
    },
    {
     "name": "stderr",
     "output_type": "stream",
     "text": [
      "\r",
      " 46%|████▌     | 68/149 [12:09<12:18,  9.12s/it]"
     ]
    },
    {
     "name": "stdout",
     "output_type": "stream",
     "text": [
      "93 0.5032704665316139\n"
     ]
    },
    {
     "name": "stderr",
     "output_type": "stream",
     "text": [
      "\r",
      " 46%|████▋     | 69/149 [12:20<13:01,  9.77s/it]"
     ]
    },
    {
     "name": "stdout",
     "output_type": "stream",
     "text": [
      "92 0.4899791113585253\n"
     ]
    },
    {
     "name": "stderr",
     "output_type": "stream",
     "text": [
      "\r",
      " 47%|████▋     | 70/149 [12:29<12:34,  9.56s/it]"
     ]
    },
    {
     "name": "stdout",
     "output_type": "stream",
     "text": [
      "94 0.48201413880513333\n"
     ]
    },
    {
     "name": "stderr",
     "output_type": "stream",
     "text": [
      "\r",
      " 48%|████▊     | 71/149 [12:39<12:38,  9.73s/it]"
     ]
    },
    {
     "name": "stdout",
     "output_type": "stream",
     "text": [
      "47 0.5490275481565826\n"
     ]
    },
    {
     "name": "stderr",
     "output_type": "stream",
     "text": [
      "\r",
      " 48%|████▊     | 72/149 [12:52<13:26, 10.47s/it]"
     ]
    },
    {
     "name": "stdout",
     "output_type": "stream",
     "text": [
      "18 0.4843460896056484\n"
     ]
    },
    {
     "name": "stderr",
     "output_type": "stream",
     "text": [
      "\r",
      " 49%|████▉     | 73/149 [12:57<11:29,  9.07s/it]"
     ]
    },
    {
     "name": "stdout",
     "output_type": "stream",
     "text": [
      "40 0.5785805536263356\n"
     ]
    },
    {
     "name": "stderr",
     "output_type": "stream",
     "text": [
      "\r",
      " 50%|████▉     | 74/149 [13:09<12:07,  9.70s/it]"
     ]
    },
    {
     "name": "stdout",
     "output_type": "stream",
     "text": [
      "86 0.5805104065355523\n"
     ]
    },
    {
     "name": "stderr",
     "output_type": "stream",
     "text": [
      "\r",
      " 50%|█████     | 75/149 [13:22<13:19, 10.81s/it]"
     ]
    },
    {
     "name": "stdout",
     "output_type": "stream",
     "text": [
      "139 0.5191648687717376\n"
     ]
    },
    {
     "name": "stderr",
     "output_type": "stream",
     "text": [
      "\r",
      " 51%|█████     | 76/149 [13:32<12:50, 10.55s/it]"
     ]
    },
    {
     "name": "stdout",
     "output_type": "stream",
     "text": [
      "114 0.5096163487257246\n"
     ]
    },
    {
     "name": "stderr",
     "output_type": "stream",
     "text": [
      "\r",
      " 52%|█████▏    | 77/149 [13:42<12:31, 10.44s/it]"
     ]
    },
    {
     "name": "stdout",
     "output_type": "stream",
     "text": [
      "67 0.47743069429822516\n"
     ]
    },
    {
     "name": "stderr",
     "output_type": "stream",
     "text": [
      "\r",
      " 52%|█████▏    | 78/149 [13:52<12:10, 10.28s/it]"
     ]
    },
    {
     "name": "stdout",
     "output_type": "stream",
     "text": [
      "72 0.4568506905303122\n"
     ]
    },
    {
     "name": "stderr",
     "output_type": "stream",
     "text": [
      "\r",
      " 53%|█████▎    | 79/149 [14:01<11:29,  9.84s/it]"
     ]
    },
    {
     "name": "stdout",
     "output_type": "stream",
     "text": [
      "109 0.5042845303717836\n"
     ]
    },
    {
     "name": "stderr",
     "output_type": "stream",
     "text": [
      "\r",
      " 54%|█████▎    | 80/149 [14:09<10:37,  9.25s/it]"
     ]
    },
    {
     "name": "stdout",
     "output_type": "stream",
     "text": [
      "115 0.4477214850698781\n"
     ]
    },
    {
     "name": "stderr",
     "output_type": "stream",
     "text": [
      "\r",
      " 54%|█████▍    | 81/149 [14:19<10:50,  9.56s/it]"
     ]
    },
    {
     "name": "stdout",
     "output_type": "stream",
     "text": [
      "64 0.5355016759167287\n"
     ]
    },
    {
     "name": "stderr",
     "output_type": "stream",
     "text": [
      "\r",
      " 55%|█████▌    | 82/149 [14:30<11:15, 10.08s/it]"
     ]
    },
    {
     "name": "stdout",
     "output_type": "stream",
     "text": [
      "78 0.4459852442444104\n"
     ]
    },
    {
     "name": "stderr",
     "output_type": "stream",
     "text": [
      "\r",
      " 56%|█████▌    | 83/149 [14:39<10:42,  9.74s/it]"
     ]
    },
    {
     "name": "stdout",
     "output_type": "stream",
     "text": [
      "41 0.5200890814272832\n"
     ]
    },
    {
     "name": "stderr",
     "output_type": "stream",
     "text": [
      "\r",
      " 56%|█████▋    | 84/149 [14:49<10:41,  9.87s/it]"
     ]
    },
    {
     "name": "stdout",
     "output_type": "stream",
     "text": [
      "106 0.5783733084554777\n"
     ]
    },
    {
     "name": "stderr",
     "output_type": "stream",
     "text": [
      "\r",
      " 57%|█████▋    | 85/149 [14:59<10:29,  9.84s/it]"
     ]
    },
    {
     "name": "stdout",
     "output_type": "stream",
     "text": [
      "97 0.5306277703452176\n"
     ]
    },
    {
     "name": "stderr",
     "output_type": "stream",
     "text": [
      "\r",
      " 58%|█████▊    | 86/149 [15:12<11:23, 10.85s/it]"
     ]
    },
    {
     "name": "stdout",
     "output_type": "stream",
     "text": [
      "58 0.5081119587046835\n"
     ]
    },
    {
     "name": "stderr",
     "output_type": "stream",
     "text": [
      "\r",
      " 58%|█████▊    | 87/149 [15:20<10:17,  9.95s/it]"
     ]
    },
    {
     "name": "stdout",
     "output_type": "stream",
     "text": [
      "147 0.5309367281109004\n"
     ]
    },
    {
     "name": "stderr",
     "output_type": "stream",
     "text": [
      "\r",
      " 59%|█████▉    | 88/149 [15:30<10:00,  9.85s/it]"
     ]
    },
    {
     "name": "stdout",
     "output_type": "stream",
     "text": [
      "91 0.4975515123920862\n"
     ]
    },
    {
     "name": "stderr",
     "output_type": "stream",
     "text": [
      "\r",
      " 60%|█████▉    | 89/149 [15:43<10:46, 10.78s/it]"
     ]
    },
    {
     "name": "stdout",
     "output_type": "stream",
     "text": [
      "134 0.5140311590944543\n"
     ]
    },
    {
     "name": "stderr",
     "output_type": "stream",
     "text": [
      "\r",
      " 60%|██████    | 90/149 [15:53<10:17, 10.47s/it]"
     ]
    },
    {
     "name": "stdout",
     "output_type": "stream",
     "text": [
      "55 0.5010528359527108\n"
     ]
    },
    {
     "name": "stderr",
     "output_type": "stream",
     "text": [
      "\r",
      " 61%|██████    | 91/149 [16:04<10:21, 10.71s/it]"
     ]
    },
    {
     "name": "stdout",
     "output_type": "stream",
     "text": [
      "68 0.5267368617466657\n"
     ]
    },
    {
     "name": "stderr",
     "output_type": "stream",
     "text": [
      "\r",
      " 62%|██████▏   | 92/149 [16:12<09:31, 10.03s/it]"
     ]
    },
    {
     "name": "stdout",
     "output_type": "stream",
     "text": [
      "30 0.5486041359854321\n"
     ]
    },
    {
     "name": "stderr",
     "output_type": "stream",
     "text": [
      "\r",
      " 62%|██████▏   | 93/149 [16:19<08:27,  9.07s/it]"
     ]
    },
    {
     "name": "stdout",
     "output_type": "stream",
     "text": [
      "98 0.4126529102492355\n"
     ]
    },
    {
     "name": "stderr",
     "output_type": "stream",
     "text": [
      "\r",
      " 63%|██████▎   | 94/149 [16:28<08:14,  9.00s/it]"
     ]
    },
    {
     "name": "stdout",
     "output_type": "stream",
     "text": [
      "81 0.4641410468556699\n"
     ]
    },
    {
     "name": "stderr",
     "output_type": "stream",
     "text": [
      "\r",
      " 64%|██████▍   | 95/149 [16:37<07:59,  8.88s/it]"
     ]
    },
    {
     "name": "stdout",
     "output_type": "stream",
     "text": [
      "88 0.42117813119223724\n"
     ]
    },
    {
     "name": "stderr",
     "output_type": "stream",
     "text": [
      "\r",
      " 64%|██████▍   | 96/149 [16:44<07:31,  8.51s/it]"
     ]
    },
    {
     "name": "stdout",
     "output_type": "stream",
     "text": [
      "10 0.3759989269437572\n"
     ]
    },
    {
     "name": "stderr",
     "output_type": "stream",
     "text": [
      "\r",
      " 65%|██████▌   | 97/149 [16:52<07:08,  8.25s/it]"
     ]
    },
    {
     "name": "stdout",
     "output_type": "stream",
     "text": [
      "32 0.46567509867104523\n"
     ]
    },
    {
     "name": "stderr",
     "output_type": "stream",
     "text": [
      "\r",
      " 66%|██████▌   | 98/149 [16:59<06:41,  7.88s/it]"
     ]
    },
    {
     "name": "stdout",
     "output_type": "stream",
     "text": [
      "62 0.5067470367488203\n"
     ]
    },
    {
     "name": "stderr",
     "output_type": "stream",
     "text": [
      "\r",
      " 66%|██████▋   | 99/149 [17:09<07:13,  8.68s/it]"
     ]
    },
    {
     "name": "stdout",
     "output_type": "stream",
     "text": [
      "11 0.41397932788686165\n"
     ]
    },
    {
     "name": "stderr",
     "output_type": "stream",
     "text": [
      "\r",
      " 67%|██████▋   | 100/149 [17:16<06:39,  8.15s/it]"
     ]
    },
    {
     "name": "stdout",
     "output_type": "stream",
     "text": [
      "117 0.4679923116782714\n"
     ]
    },
    {
     "name": "stderr",
     "output_type": "stream",
     "text": [
      "\r",
      " 68%|██████▊   | 101/149 [17:24<06:25,  8.03s/it]"
     ]
    },
    {
     "name": "stdout",
     "output_type": "stream",
     "text": [
      "48 0.4419806457478195\n"
     ]
    },
    {
     "name": "stderr",
     "output_type": "stream",
     "text": [
      "\r",
      " 68%|██████▊   | 102/149 [17:34<06:44,  8.61s/it]"
     ]
    },
    {
     "name": "stdout",
     "output_type": "stream",
     "text": [
      "2 0.4380124514311178\n"
     ]
    },
    {
     "name": "stderr",
     "output_type": "stream",
     "text": [
      "\r",
      " 69%|██████▉   | 103/149 [17:40<05:59,  7.82s/it]"
     ]
    },
    {
     "name": "stdout",
     "output_type": "stream",
     "text": [
      "105 0.47878407474695944\n"
     ]
    },
    {
     "name": "stderr",
     "output_type": "stream",
     "text": [
      "\r",
      " 70%|██████▉   | 104/149 [17:49<06:07,  8.17s/it]"
     ]
    },
    {
     "name": "stdout",
     "output_type": "stream",
     "text": [
      "121 0.54521013322708\n"
     ]
    },
    {
     "name": "stderr",
     "output_type": "stream",
     "text": [
      "\r",
      " 70%|███████   | 105/149 [18:01<06:44,  9.19s/it]"
     ]
    },
    {
     "name": "stdout",
     "output_type": "stream",
     "text": [
      "145 0.4180975087688807\n"
     ]
    },
    {
     "name": "stderr",
     "output_type": "stream",
     "text": [
      "\r",
      " 71%|███████   | 106/149 [18:10<06:32,  9.12s/it]"
     ]
    },
    {
     "name": "stdout",
     "output_type": "stream",
     "text": [
      "46 0.5219032646050219\n"
     ]
    },
    {
     "name": "stderr",
     "output_type": "stream",
     "text": [
      "\r",
      " 72%|███████▏  | 107/149 [18:19<06:33,  9.38s/it]"
     ]
    },
    {
     "name": "stdout",
     "output_type": "stream",
     "text": [
      "125 0.49386586780035785\n"
     ]
    },
    {
     "name": "stderr",
     "output_type": "stream",
     "text": [
      "\r",
      " 72%|███████▏  | 108/149 [18:32<07:05, 10.37s/it]"
     ]
    },
    {
     "name": "stdout",
     "output_type": "stream",
     "text": [
      "119 0.5305997110601428\n"
     ]
    },
    {
     "name": "stderr",
     "output_type": "stream",
     "text": [
      "\r",
      " 73%|███████▎  | 109/149 [18:42<06:47, 10.18s/it]"
     ]
    },
    {
     "name": "stdout",
     "output_type": "stream",
     "text": [
      "126 0.49567855737998123\n"
     ]
    },
    {
     "name": "stderr",
     "output_type": "stream",
     "text": [
      "\r",
      " 74%|███████▍  | 110/149 [18:53<06:41, 10.31s/it]"
     ]
    },
    {
     "name": "stdout",
     "output_type": "stream",
     "text": [
      "42 0.5073683286716795\n"
     ]
    },
    {
     "name": "stderr",
     "output_type": "stream",
     "text": [
      "\r",
      " 74%|███████▍  | 111/149 [19:01<06:09,  9.73s/it]"
     ]
    },
    {
     "name": "stdout",
     "output_type": "stream",
     "text": [
      "16 0.4138354591833127\n"
     ]
    },
    {
     "name": "stderr",
     "output_type": "stream",
     "text": [
      "\r",
      " 75%|███████▌  | 112/149 [19:09<05:37,  9.13s/it]"
     ]
    },
    {
     "name": "stdout",
     "output_type": "stream",
     "text": [
      "12 0.4481966862766639\n"
     ]
    },
    {
     "name": "stderr",
     "output_type": "stream",
     "text": [
      "\r",
      " 76%|███████▌  | 113/149 [19:15<04:58,  8.30s/it]"
     ]
    },
    {
     "name": "stdout",
     "output_type": "stream",
     "text": [
      "77 0.4445882132026906\n"
     ]
    },
    {
     "name": "stderr",
     "output_type": "stream",
     "text": [
      "\r",
      " 77%|███████▋  | 114/149 [19:22<04:39,  7.99s/it]"
     ]
    },
    {
     "name": "stdout",
     "output_type": "stream",
     "text": [
      "17 0.403270847567338\n"
     ]
    },
    {
     "name": "stderr",
     "output_type": "stream",
     "text": [
      "\r",
      " 77%|███████▋  | 115/149 [19:30<04:32,  8.03s/it]"
     ]
    },
    {
     "name": "stdout",
     "output_type": "stream",
     "text": [
      "50 0.47926639155402645\n"
     ]
    },
    {
     "name": "stderr",
     "output_type": "stream",
     "text": [
      "\r",
      " 78%|███████▊  | 116/149 [19:39<04:27,  8.11s/it]"
     ]
    },
    {
     "name": "stdout",
     "output_type": "stream",
     "text": [
      "100 0.4893537293491114\n"
     ]
    },
    {
     "name": "stderr",
     "output_type": "stream",
     "text": [
      "\r",
      " 79%|███████▊  | 117/149 [19:46<04:12,  7.89s/it]"
     ]
    },
    {
     "name": "stdout",
     "output_type": "stream",
     "text": [
      "113 0.5291163121002495\n"
     ]
    },
    {
     "name": "stderr",
     "output_type": "stream",
     "text": [
      "\r",
      " 79%|███████▉  | 118/149 [19:57<04:36,  8.91s/it]"
     ]
    },
    {
     "name": "stdout",
     "output_type": "stream",
     "text": [
      "101 0.4863364676007278\n"
     ]
    },
    {
     "name": "stderr",
     "output_type": "stream",
     "text": [
      "\r",
      " 80%|███████▉  | 119/149 [20:06<04:26,  8.88s/it]"
     ]
    },
    {
     "name": "stdout",
     "output_type": "stream",
     "text": [
      "56 0.5146287878356424\n"
     ]
    },
    {
     "name": "stderr",
     "output_type": "stream",
     "text": [
      "\r",
      " 81%|████████  | 120/149 [20:18<04:45,  9.84s/it]"
     ]
    },
    {
     "name": "stdout",
     "output_type": "stream",
     "text": [
      "22 0.4096394700342049\n"
     ]
    },
    {
     "name": "stderr",
     "output_type": "stream",
     "text": [
      "\r",
      " 81%|████████  | 121/149 [20:23<03:55,  8.40s/it]"
     ]
    },
    {
     "name": "stdout",
     "output_type": "stream",
     "text": [
      "138 0.4779747544705542\n"
     ]
    },
    {
     "name": "stderr",
     "output_type": "stream",
     "text": [
      "\r",
      " 82%|████████▏ | 122/149 [20:32<03:50,  8.55s/it]"
     ]
    },
    {
     "name": "stdout",
     "output_type": "stream",
     "text": [
      "53 0.48374646833045926\n"
     ]
    },
    {
     "name": "stderr",
     "output_type": "stream",
     "text": [
      "\r",
      " 83%|████████▎ | 123/149 [20:42<03:54,  9.01s/it]"
     ]
    },
    {
     "name": "stdout",
     "output_type": "stream",
     "text": [
      "124 0.4951257972061991\n"
     ]
    },
    {
     "name": "stderr",
     "output_type": "stream",
     "text": [
      "\r",
      " 83%|████████▎ | 124/149 [20:51<03:40,  8.81s/it]"
     ]
    },
    {
     "name": "stdout",
     "output_type": "stream",
     "text": [
      "61 0.4606673400845347\n"
     ]
    },
    {
     "name": "stderr",
     "output_type": "stream",
     "text": [
      "\r",
      " 84%|████████▍ | 125/149 [21:01<03:44,  9.35s/it]"
     ]
    },
    {
     "name": "stdout",
     "output_type": "stream",
     "text": [
      "24 0.3984914941987902\n"
     ]
    },
    {
     "name": "stderr",
     "output_type": "stream",
     "text": [
      "\r",
      " 85%|████████▍ | 126/149 [21:09<03:25,  8.95s/it]"
     ]
    },
    {
     "name": "stdout",
     "output_type": "stream",
     "text": [
      "75 0.42002063235851544\n"
     ]
    },
    {
     "name": "stderr",
     "output_type": "stream",
     "text": [
      "\r",
      " 85%|████████▌ | 127/149 [21:18<03:13,  8.81s/it]"
     ]
    },
    {
     "name": "stdout",
     "output_type": "stream",
     "text": [
      "137 0.46642774743218046\n"
     ]
    },
    {
     "name": "stderr",
     "output_type": "stream",
     "text": [
      "\r",
      " 86%|████████▌ | 128/149 [21:28<03:16,  9.34s/it]"
     ]
    },
    {
     "name": "stdout",
     "output_type": "stream",
     "text": [
      "135 0.49225144961620965\n"
     ]
    },
    {
     "name": "stderr",
     "output_type": "stream",
     "text": [
      "\r",
      " 87%|████████▋ | 129/149 [21:38<03:07,  9.39s/it]"
     ]
    },
    {
     "name": "stdout",
     "output_type": "stream",
     "text": [
      "20 0.5219374193852548\n"
     ]
    },
    {
     "name": "stderr",
     "output_type": "stream",
     "text": [
      "\r",
      " 87%|████████▋ | 130/149 [21:45<02:48,  8.86s/it]"
     ]
    },
    {
     "name": "stdout",
     "output_type": "stream",
     "text": [
      "104 0.5627524813880795\n"
     ]
    },
    {
     "name": "stderr",
     "output_type": "stream",
     "text": [
      "\r",
      " 88%|████████▊ | 131/149 [21:58<02:57,  9.86s/it]"
     ]
    },
    {
     "name": "stdout",
     "output_type": "stream",
     "text": [
      "148 0.47638097867940565\n"
     ]
    },
    {
     "name": "stderr",
     "output_type": "stream",
     "text": [
      "\r",
      " 89%|████████▊ | 132/149 [22:07<02:44,  9.69s/it]"
     ]
    },
    {
     "name": "stdout",
     "output_type": "stream",
     "text": [
      "15 0.450619411223243\n"
     ]
    },
    {
     "name": "stderr",
     "output_type": "stream",
     "text": [
      "\r",
      " 89%|████████▉ | 133/149 [22:14<02:22,  8.88s/it]"
     ]
    },
    {
     "name": "stdout",
     "output_type": "stream",
     "text": [
      "111 0.45768767274699673\n"
     ]
    },
    {
     "name": "stderr",
     "output_type": "stream",
     "text": [
      "\r",
      " 90%|████████▉ | 134/149 [22:24<02:18,  9.23s/it]"
     ]
    },
    {
     "name": "stdout",
     "output_type": "stream",
     "text": [
      "3 0.43559344853388965\n"
     ]
    },
    {
     "name": "stderr",
     "output_type": "stream",
     "text": [
      "\r",
      " 91%|█████████ | 135/149 [22:31<01:59,  8.57s/it]"
     ]
    },
    {
     "name": "stdout",
     "output_type": "stream",
     "text": [
      "49 0.4989774092347497\n"
     ]
    },
    {
     "name": "stderr",
     "output_type": "stream",
     "text": [
      "\r",
      " 91%|█████████▏| 136/149 [22:39<01:50,  8.50s/it]"
     ]
    },
    {
     "name": "stdout",
     "output_type": "stream",
     "text": [
      "21 0.46420094359529984\n"
     ]
    },
    {
     "name": "stderr",
     "output_type": "stream",
     "text": [
      "\r",
      " 92%|█████████▏| 137/149 [22:49<01:44,  8.75s/it]"
     ]
    },
    {
     "name": "stdout",
     "output_type": "stream",
     "text": [
      "80 0.48637497921138007\n"
     ]
    },
    {
     "name": "stderr",
     "output_type": "stream",
     "text": [
      "\r",
      " 93%|█████████▎| 138/149 [22:58<01:36,  8.79s/it]"
     ]
    },
    {
     "name": "stdout",
     "output_type": "stream",
     "text": [
      "1 0.445100286590518\n"
     ]
    },
    {
     "name": "stderr",
     "output_type": "stream",
     "text": [
      "\r",
      " 93%|█████████▎| 139/149 [23:03<01:17,  7.72s/it]"
     ]
    },
    {
     "name": "stdout",
     "output_type": "stream",
     "text": [
      "4 0.43359289384306365\n"
     ]
    },
    {
     "name": "stderr",
     "output_type": "stream",
     "text": [
      "\r",
      " 94%|█████████▍| 140/149 [23:13<01:15,  8.35s/it]"
     ]
    },
    {
     "name": "stdout",
     "output_type": "stream",
     "text": [
      "112 0.45516519523116933\n"
     ]
    },
    {
     "name": "stderr",
     "output_type": "stream",
     "text": [
      "\r",
      " 95%|█████████▍| 141/149 [23:20<01:04,  8.06s/it]"
     ]
    },
    {
     "name": "stdout",
     "output_type": "stream",
     "text": [
      "129 0.5092863986654828\n"
     ]
    },
    {
     "name": "stderr",
     "output_type": "stream",
     "text": [
      "\r",
      " 95%|█████████▌| 142/149 [23:32<01:04,  9.28s/it]"
     ]
    },
    {
     "name": "stdout",
     "output_type": "stream",
     "text": [
      "44 0.5849969923168482\n"
     ]
    },
    {
     "name": "stderr",
     "output_type": "stream",
     "text": [
      "\r",
      " 96%|█████████▌| 143/149 [23:42<00:57,  9.55s/it]"
     ]
    },
    {
     "name": "stdout",
     "output_type": "stream",
     "text": [
      "13 0.4081055097997473\n"
     ]
    },
    {
     "name": "stderr",
     "output_type": "stream",
     "text": [
      "\r",
      " 97%|█████████▋| 144/149 [23:49<00:43,  8.66s/it]"
     ]
    },
    {
     "name": "stdout",
     "output_type": "stream",
     "text": [
      "59 0.4983751328268349\n"
     ]
    },
    {
     "name": "stderr",
     "output_type": "stream",
     "text": [
      "\r",
      " 97%|█████████▋| 145/149 [23:59<00:36,  9.24s/it]"
     ]
    },
    {
     "name": "stdout",
     "output_type": "stream",
     "text": [
      "141 0.49501276435981095\n"
     ]
    },
    {
     "name": "stderr",
     "output_type": "stream",
     "text": [
      "\r",
      " 98%|█████████▊| 146/149 [24:09<00:27,  9.27s/it]"
     ]
    },
    {
     "name": "stdout",
     "output_type": "stream",
     "text": [
      "14 0.4412132484310485\n"
     ]
    },
    {
     "name": "stderr",
     "output_type": "stream",
     "text": [
      "\r",
      " 99%|█████████▊| 147/149 [24:15<00:16,  8.50s/it]"
     ]
    },
    {
     "name": "stdout",
     "output_type": "stream",
     "text": [
      "6 0.45793183521300584\n"
     ]
    },
    {
     "name": "stderr",
     "output_type": "stream",
     "text": [
      "\r",
      " 99%|█████████▉| 148/149 [24:24<00:08,  8.63s/it]"
     ]
    },
    {
     "name": "stdout",
     "output_type": "stream",
     "text": [
      "54 0.433686776298755\n"
     ]
    },
    {
     "name": "stderr",
     "output_type": "stream",
     "text": [
      "100%|██████████| 149/149 [24:31<00:00,  9.88s/it]\n"
     ]
    }
   ],
   "source": [
    "errors_list = list()\n",
    "test_list = list()\n",
    "\n",
    "for pdv in tqdm(pdv_list):\n",
    "    \n",
    "    # extract data and add empty dates\n",
    "    sub_ventes = ventes_2018.query(f'ID_PDV=={pdv}')\\\n",
    "                          .drop('ID_PDV', axis=1)\\\n",
    "                          .merge(combines, how='right')\\\n",
    "                          .fillna({'QTE': 0})\n",
    "    sub_ventes['TRIMESTRE'] = sub_ventes['DATE'].dt.quarter\n",
    "    sub_ventes['ANNEE'] = sub_ventes['DATE'].dt.year\n",
    "    \n",
    "    sub_ventes = sub_ventes.merge(nomenclature_produits)\n",
    "    sub_ventes = sub_ventes.merge(prix_vente.query(f'ID_PDV=={pdv}')\\\n",
    "                                          .filter(\n",
    "                                              ['ID_ARTC', 'ANNEE', 'TRIMESTRE', 'ORD_PRIX']\n",
    "                                              )\n",
    "                                          )\n",
    "    \n",
    "    # extract date \n",
    "    sub_ventes['WEEK_DAY'] = sub_ventes['DATE'].dt.dayofweek\n",
    "    sub_ventes['DAY_OF_MONTH'] = sub_ventes['DATE'].dt.day\n",
    "    sub_ventes['HOLIDAYS'] = sub_ventes['DATE'].apply(lambda x: x in fr_holidays)\n",
    "\n",
    "    # create target\n",
    "    sub_ventes['LOG_QTE'] = np.log1p(sub_ventes['QTE'])\n",
    "\n",
    "    # encode categories\n",
    "    sub_ventes['ID_ARTC'] = sub_ventes['ID_ARTC'].astype('category')\n",
    "    sub_ventes['LB_VENT_RAYN'] = sub_ventes['LB_VENT_RAYN'].astype('category')\n",
    "    sub_ventes['LB_VENT_FAML'] = sub_ventes['LB_VENT_FAML'].astype('category')\n",
    "    sub_ventes['LB_VENT_SOUS_FAML'] = sub_ventes['LB_VENT_SOUS_FAML'].astype('category')\n",
    "    sub_ventes['WEEK_DAY'] = sub_ventes['WEEK_DAY'].astype('category')\n",
    "    \n",
    "    # create train, val & test\n",
    "    train = sub_ventes.query('ANNEE==2018 and TRIMESTRE<4')\n",
    "    val = sub_ventes.query('ANNEE==2018 and TRIMESTRE==4')\n",
    "    test = sub_ventes.query('ANNEE==2019 and TRIMESTRE==1')\n",
    "    \n",
    "    # train, valid\n",
    "    cols = ['ID_ARTC', 'LB_VENT_RAYN', 'LB_VENT_FAML', 'LB_VENT_SOUS_FAML',\n",
    "            'WEEK_DAY', 'DAY_OF_MONTH', 'ORD_PRIX', 'HOLIDAYS']\n",
    "    target = 'LOG_QTE'\n",
    "    \n",
    "    model = lightgbm.LGBMRegressor(objective='regression_l2', n_estimators=100, n_jobs=-1, random_state=3105)\n",
    "    model.fit(train[cols], train[target])\n",
    "    val.loc[:,'preds'] = model.predict(val[cols]).clip(0)\n",
    "    \n",
    "    errors_list.append(np.sqrt(mean_squared_error(val['LOG_QTE'], val['preds'])))\n",
    "    print(pdv, errors_list[-1])\n",
    "    \n",
    "    # re-train\n",
    "    full_train = sub_ventes.query('ANNEE==2018 and TRIMESTRE<=4')\n",
    "    model = lightgbm.LGBMRegressor(objective='regression_l2', n_estimators=100, n_jobs=-1)\n",
    "    model.fit(full_train[cols], full_train[target])\n",
    "    test.loc[:,'preds'] = model.predict(test[cols]).clip(0)\n",
    "    test['ID_PDV'] = pdv\n",
    "    \n",
    "    test_list.append(test)"
   ]
  },
  {
   "cell_type": "raw",
   "metadata": {
    "colab": {
     "base_uri": "https://localhost:8080/"
    },
    "executionInfo": {
     "elapsed": 2261912,
     "status": "ok",
     "timestamp": 1620393247725,
     "user": {
      "displayName": "binvignat.j@gmail.com",
      "photoUrl": "",
      "userId": "07817802643777078977"
     },
     "user_tz": -120
    },
    "id": "YYD9A6Gon_W6",
    "outputId": "7c68244d-2565-4ece-e399-acc869ee1c39",
    "scrolled": true
   },
   "source": [
    "errors_list = list()\n",
    "test_list = list()\n",
    "\n",
    "for pdv in tqdm(pdv_list):\n",
    "    # extract data and add empty dates\n",
    "    sub_ventes = ventes_2018.query(f'ID_PDV=={pdv}')\\\n",
    "                          .drop('ID_PDV', axis=1)\\\n",
    "                          .merge(combines, how='right')\\\n",
    "                          .fillna({'QTE': 0})\n",
    "    \n",
    "    # add products infos\n",
    "    sub_ventes['TRIMESTRE'] = sub_ventes['DATE'].dt.quarter\n",
    "    sub_ventes['ANNEE'] = sub_ventes['DATE'].dt.year\n",
    "\n",
    "    sub_ventes = sub_ventes.merge(nomenclature_produits, how='right')\n",
    "    sub_ventes = sub_ventes.merge(prix_vente.query(f'ID_PDV=={pdv}')\\\n",
    "                                          .filter(\n",
    "                                              ['ID_ARTC', 'ANNEE', 'TRIMESTRE', 'ORD_PRIX', 'PRIX_UNITAIRE']\n",
    "                                              ),\n",
    "                                  how='left'\n",
    "                                          )\n",
    "    \n",
    "    \n",
    "    # remove products without any sale\n",
    "#    prod_to_rm = sub_ventes.groupby('ID_ARTC')['QTE'].sum().reset_index().query('QTE==0')['ID_ARTC'].tolist()\n",
    "#    sub_ventes = sub_ventes[~sub_ventes['ID_ARTC'].isin(prod_to_rm)]\n",
    "\n",
    "    # price compare\n",
    "    price_table = sub_ventes.groupby(['DATE', 'LB_VENT_FAML'])['ORD_PRIX']\\\n",
    "          .value_counts(normalize=True)\\\n",
    "          .reset_index(name='tmp').drop('tmp', axis=1)\\\n",
    "          .groupby(['DATE', 'LB_VENT_FAML']).head(1)\\\n",
    "          .reset_index(drop=True).rename(columns={'ORD_PRIX': 'COMMON_PRICE'})\n",
    "    \n",
    "    sub_ventes = sub_ventes.merge(price_table, how='left')\n",
    "    sub_ventes['PRICE_INDEX'] = (sub_ventes['ORD_PRIX']/sub_ventes['COMMON_PRICE'])\\\n",
    "                                .apply(lambda x: 'lower' if x<1 else ('higher' if x>1 else 'equal'))\n",
    "    \n",
    "    # extract date \n",
    "    sub_ventes['WEEK_DAY'] = sub_ventes['DATE'].dt.dayofweek\n",
    "    sub_ventes['DAY_OF_MONTH'] = sub_ventes['DATE'].dt.day\n",
    "    sub_ventes['HOLIDAYS'] = sub_ventes['DATE'].apply(lambda x: x in fr_holidays)\n",
    "    sub_ventes = sub_ventes.merge(dates_dataframe)\n",
    "    \n",
    "    # create target\n",
    "    sub_ventes['LOG_QTE'] = np.log1p(sub_ventes['QTE'])\n",
    "    \n",
    "    # encode categories\n",
    "    sub_ventes['ID_ARTC'] = sub_ventes['ID_ARTC'].astype('category')\n",
    "    sub_ventes['LB_VENT_RAYN'] = sub_ventes['LB_VENT_RAYN'].astype('category')\n",
    "    sub_ventes['LB_VENT_FAML'] = sub_ventes['LB_VENT_FAML'].astype('category')\n",
    "    sub_ventes['LB_VENT_SOUS_FAML'] = sub_ventes['LB_VENT_SOUS_FAML'].astype('category')\n",
    "    sub_ventes['WEEK_DAY'] = sub_ventes['WEEK_DAY'].astype('category')\n",
    "    sub_ventes['PRICE_INDEX'] = sub_ventes['PRICE_INDEX'].fillna('UNK').astype('category')\n",
    "\n",
    "    # create train, val & test\n",
    "    train = sub_ventes.query('ANNEE==2018 and TRIMESTRE<4')\n",
    "    val = sub_ventes.query('ANNEE==2018 and TRIMESTRE==4')\n",
    "    test = sub_ventes.query('ANNEE==2019 and TRIMESTRE==1')\n",
    "    \n",
    "    # train, valid\n",
    "    cols = ['ID_ARTC', 'LB_VENT_RAYN', 'LB_VENT_FAML', 'LB_VENT_SOUS_FAML',\n",
    "            'PRICE_INDEX',\n",
    "            'WEEK_DAY', 'DAY_OF_MONTH', 'HOLIDAYS', \n",
    "            'holiday_zone_A', 'holiday_zone_B', 'holiday_zone_C',\n",
    "            'ORD_PRIX'\n",
    "            ]\n",
    "    target = 'LOG_QTE'\n",
    "    \n",
    "    model_lightgbm = lightgbm.LGBMRegressor(\n",
    "        objective='regression_l2',\n",
    "        n_estimators=100,\n",
    "        random_state=3105, n_jobs=-1)\n",
    "    \n",
    "#    model_catboost = CatBoostRegressor(\n",
    "#        n_estimators=150, random_state=3105,\n",
    "#        cat_features=[0, 1, 2, 3, 4, 5, 6, 7, 8, 9, 10], verbose=False\n",
    "#    )\n",
    "    \n",
    "    model_lightgbm.fit(train[cols], train[target])\n",
    "    #model_catboost.fit(train[cols], train[target])\n",
    "\n",
    "    val.loc[:,'preds'] = model_lightgbm.predict(val[cols])#*0.5 + model_catboost.predict(val[cols])*0.5).clip(0)\n",
    "    \n",
    "    errors_list.append(np.sqrt(mean_squared_error(val['LOG_QTE'], val['preds'])))\n",
    "    print(pdv, errors_list[-1])\n",
    "    \n",
    "    # re-train\n",
    "    full_train = sub_ventes.query('ANNEE==2018 and TRIMESTRE<=4')\n",
    "        \n",
    "    model_lightgbm.fit(full_train[cols], full_train[target])\n",
    "    #model_catboost.fit(full_train[cols], full_train[target])\n",
    "    \n",
    "    test.loc[:,'preds'] = model_lightgbm.predict(test[cols])#*0.5 + model_catboost.predict(test[cols])*0.5).clip(0)\n",
    "    test['ID_PDV'] = pdv\n",
    "    \n",
    "    test_list.append(test)"
   ]
  },
  {
   "cell_type": "code",
   "execution_count": 10,
   "metadata": {
    "scrolled": true
   },
   "outputs": [
    {
     "data": {
      "text/plain": [
       "0.49540064239322773"
      ]
     },
     "execution_count": 10,
     "metadata": {},
     "output_type": "execute_result"
    }
   ],
   "source": [
    "np.mean(errors_list)"
   ]
  },
  {
   "cell_type": "code",
   "execution_count": 11,
   "metadata": {
    "executionInfo": {
     "elapsed": 5989,
     "status": "ok",
     "timestamp": 1620395118069,
     "user": {
      "displayName": "binvignat.j@gmail.com",
      "photoUrl": "",
      "userId": "07817802643777078977"
     },
     "user_tz": -120
    },
    "id": "FllyYGxM0zMz"
   },
   "outputs": [],
   "source": [
    "submission_file = pd.concat(test_list)"
   ]
  },
  {
   "cell_type": "code",
   "execution_count": 12,
   "metadata": {
    "id": "vcHfvyLbPv1X"
   },
   "outputs": [],
   "source": [
    "submission_file['raw_qte'] = np.expm1(submission_file['preds'].clip(0))\n",
    "submission_file['qte'] = np.expm1(submission_file['preds'].clip(0)).round().astype(int)\n",
    "submission_file['id'] = submission_file['ID_PDV'].astype(str) + \"_\" + \\\n",
    "                        submission_file['ID_ARTC'].astype(str) + '_' + \\\n",
    "                        submission_file['DATE'].dt.strftime('%Y%m%d').astype(str)"
   ]
  },
  {
   "cell_type": "code",
   "execution_count": 15,
   "metadata": {},
   "outputs": [
    {
     "data": {
      "text/html": [
       "<div>\n",
       "<style scoped>\n",
       "    .dataframe tbody tr th:only-of-type {\n",
       "        vertical-align: middle;\n",
       "    }\n",
       "\n",
       "    .dataframe tbody tr th {\n",
       "        vertical-align: top;\n",
       "    }\n",
       "\n",
       "    .dataframe thead th {\n",
       "        text-align: right;\n",
       "    }\n",
       "</style>\n",
       "<table border=\"1\" class=\"dataframe\">\n",
       "  <thead>\n",
       "    <tr style=\"text-align: right;\">\n",
       "      <th></th>\n",
       "      <th>id</th>\n",
       "      <th>qte</th>\n",
       "      <th>raw_qte</th>\n",
       "    </tr>\n",
       "  </thead>\n",
       "  <tbody>\n",
       "    <tr>\n",
       "      <th>365</th>\n",
       "      <td>102_398_20190101</td>\n",
       "      <td>0</td>\n",
       "      <td>0.281480</td>\n",
       "    </tr>\n",
       "    <tr>\n",
       "      <th>366</th>\n",
       "      <td>102_398_20190102</td>\n",
       "      <td>4</td>\n",
       "      <td>3.732222</td>\n",
       "    </tr>\n",
       "    <tr>\n",
       "      <th>367</th>\n",
       "      <td>102_398_20190103</td>\n",
       "      <td>3</td>\n",
       "      <td>3.163088</td>\n",
       "    </tr>\n",
       "    <tr>\n",
       "      <th>368</th>\n",
       "      <td>102_398_20190104</td>\n",
       "      <td>5</td>\n",
       "      <td>5.362372</td>\n",
       "    </tr>\n",
       "    <tr>\n",
       "      <th>369</th>\n",
       "      <td>102_398_20190105</td>\n",
       "      <td>5</td>\n",
       "      <td>5.492353</td>\n",
       "    </tr>\n",
       "  </tbody>\n",
       "</table>\n",
       "</div>"
      ],
      "text/plain": [
       "                   id  qte   raw_qte\n",
       "365  102_398_20190101    0  0.281480\n",
       "366  102_398_20190102    4  3.732222\n",
       "367  102_398_20190103    3  3.163088\n",
       "368  102_398_20190104    5  5.362372\n",
       "369  102_398_20190105    5  5.492353"
      ]
     },
     "execution_count": 15,
     "metadata": {},
     "output_type": "execute_result"
    }
   ],
   "source": [
    "submission_file[['id', 'qte', 'raw_qte']].head()"
   ]
  },
  {
   "cell_type": "code",
   "execution_count": 16,
   "metadata": {
    "id": "V13zWDo1QFEl"
   },
   "outputs": [],
   "source": [
    "submission_file.query('qte!=0')[['id', 'qte']].to_csv('lgb_pdv_best.csv.zip', index=False, compression=\"zip\")"
   ]
  },
  {
   "cell_type": "code",
   "execution_count": 17,
   "metadata": {},
   "outputs": [],
   "source": [
    "submission_file[['id', 'qte', 'raw_qte']].to_csv('lgb_pdv_best_raw.csv.zip', index=False, compression=\"zip\")"
   ]
  },
  {
   "cell_type": "code",
   "execution_count": 29,
   "metadata": {},
   "outputs": [
    {
     "data": {
      "text/html": [
       "<div>\n",
       "<style scoped>\n",
       "    .dataframe tbody tr th:only-of-type {\n",
       "        vertical-align: middle;\n",
       "    }\n",
       "\n",
       "    .dataframe tbody tr th {\n",
       "        vertical-align: top;\n",
       "    }\n",
       "\n",
       "    .dataframe thead th {\n",
       "        text-align: right;\n",
       "    }\n",
       "</style>\n",
       "<table border=\"1\" class=\"dataframe\">\n",
       "  <thead>\n",
       "    <tr style=\"text-align: right;\">\n",
       "      <th></th>\n",
       "      <th>ID_ARTC</th>\n",
       "      <th>DATE</th>\n",
       "      <th>QTE</th>\n",
       "      <th>TRIMESTRE</th>\n",
       "      <th>ANNEE</th>\n",
       "      <th>LB_VENT_RAYN</th>\n",
       "      <th>LB_VENT_FAML</th>\n",
       "      <th>LB_VENT_SOUS_FAML</th>\n",
       "      <th>ORD_PRIX</th>\n",
       "      <th>PRIX_UNITAIRE</th>\n",
       "      <th>...</th>\n",
       "      <th>HOLIDAYS</th>\n",
       "      <th>holiday_zone_A</th>\n",
       "      <th>holiday_zone_B</th>\n",
       "      <th>holiday_zone_C</th>\n",
       "      <th>LOG_QTE</th>\n",
       "      <th>preds</th>\n",
       "      <th>ID_PDV</th>\n",
       "      <th>raw_qte</th>\n",
       "      <th>qte</th>\n",
       "      <th>id</th>\n",
       "    </tr>\n",
       "  </thead>\n",
       "  <tbody>\n",
       "    <tr>\n",
       "      <th>978400</th>\n",
       "      <td>952</td>\n",
       "      <td>2019-01-27</td>\n",
       "      <td>0.0</td>\n",
       "      <td>1</td>\n",
       "      <td>2019</td>\n",
       "      <td>PAIN PAT LS INDUS</td>\n",
       "      <td>PATISSERIE LS TRADITIONNELLE</td>\n",
       "      <td>PATISSERIE LS TRADITIONNELLE - SS-FAML 3</td>\n",
       "      <td>NaN</td>\n",
       "      <td>NaN</td>\n",
       "      <td>...</td>\n",
       "      <td>False</td>\n",
       "      <td>False</td>\n",
       "      <td>False</td>\n",
       "      <td>False</td>\n",
       "      <td>0.0</td>\n",
       "      <td>-0.014194</td>\n",
       "      <td>131</td>\n",
       "      <td>0.0</td>\n",
       "      <td>0</td>\n",
       "      <td>131_952_20190127</td>\n",
       "    </tr>\n",
       "  </tbody>\n",
       "</table>\n",
       "<p>1 rows × 24 columns</p>\n",
       "</div>"
      ],
      "text/plain": [
       "       ID_ARTC       DATE  QTE  TRIMESTRE  ANNEE       LB_VENT_RAYN  \\\n",
       "978400     952 2019-01-27  0.0          1   2019  PAIN PAT LS INDUS   \n",
       "\n",
       "                        LB_VENT_FAML  \\\n",
       "978400  PATISSERIE LS TRADITIONNELLE   \n",
       "\n",
       "                               LB_VENT_SOUS_FAML  ORD_PRIX PRIX_UNITAIRE  ...  \\\n",
       "978400  PATISSERIE LS TRADITIONNELLE - SS-FAML 3       NaN           NaN  ...   \n",
       "\n",
       "        HOLIDAYS holiday_zone_A holiday_zone_B  holiday_zone_C  LOG_QTE  \\\n",
       "978400     False          False          False           False      0.0   \n",
       "\n",
       "           preds  ID_PDV  raw_qte  qte                id  \n",
       "978400 -0.014194     131      0.0    0  131_952_20190127  \n",
       "\n",
       "[1 rows x 24 columns]"
      ]
     },
     "execution_count": 29,
     "metadata": {},
     "output_type": "execute_result"
    }
   ],
   "source": [
    "submission_file.sample()"
   ]
  },
  {
   "cell_type": "code",
   "execution_count": 14,
   "metadata": {},
   "outputs": [
    {
     "data": {
      "text/plain": [
       "<AxesSubplot:xlabel='DATE'>"
      ]
     },
     "execution_count": 14,
     "metadata": {},
     "output_type": "execute_result"
    },
    {
     "data": {
      "image/png": "[encoded data removed]",
      "text/plain": [
       "<Figure size 432x288 with 1 Axes>"
      ]
     },
     "metadata": {
      "needs_background": "light"
     },
     "output_type": "display_data"
    }
   ],
   "source": [
    "submission_file.query('ID_ARTC==952 and ID_PDV==131').set_index('DATE')['qte'].plot()"
   ]
  },
  {
   "cell_type": "code",
   "execution_count": null,
   "metadata": {},
   "outputs": [],
   "source": []
  }
 ],
 "metadata": {
  "colab": {
   "authorship_tag": "ABX9TyMWF9v/5Fy/k8rPUHF11iQc",
   "collapsed_sections": [],
   "mount_file_id": "1RZ0Utb-ezS4w9-MtZW1PCsXcw0UX_ZlC",
   "name": "Intermarche-Challenge-EDA.ipynb",
   "provenance": []
  },
  "kernelspec": {
   "display_name": "Python 3",
   "language": "python",
   "name": "python3"
  },
  "language_info": {
   "codemirror_mode": {
    "name": "ipython",
    "version": 3
   },
   "file_extension": ".py",
   "mimetype": "text/x-python",
   "name": "python",
   "nbconvert_exporter": "python",
   "pygments_lexer": "ipython3",
   "version": "3.6.13"
  }
 },
 "nbformat": 4,
 "nbformat_minor": 1
}
